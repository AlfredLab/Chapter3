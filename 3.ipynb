{
 "cells": [
  {
   "cell_type": "markdown",
   "metadata": {},
   "source": [
    "<h1 align='center'>Chapter 3. Python基本数据类型</h1>"
   ]
  },
  {
   "cell_type": "markdown",
   "metadata": {},
   "source": [
    "> **Python中，$\\color{#F6BA2C}{一切皆是对象}$，对象是Python程序的基础**\n",
    "\n",
    "> $\\color{#F6BA2C}{对象}$ 是 Python 中对数据的抽象，Python 程序中的所有数据都是由对象或对象间关系来表示的。\n",
    "\n",
    "> 每个对象都有各自的$\\color{#F6BA2C}{标识值}$（Identity）、$\\color{#F6BA2C}{类型}$（type）和 $\\color{#F6BA2C}{值}$（value）。一个对象被创建后，它的 标识值 就绝不会改变；你可以将其理解为该对象在内存中的地址。\n",
    "> - `is` 运算符可以比较两个对象的标识值是否相同\n",
    "> - `id()` 函数能返回一个代表其标识值的整型数\n",
    "\n",
    "> $\\color{#F6BA2C}{对象的类型}$ 决定该对象所支持的操作 (例如 \"对象是否有长度属性\") 并且定义了该类型的对象可能的取值。\n",
    "> - `type()` 函数能返回一个对象的类型 (类型本身也是对象)\n",
    "> - 一个对象的 类型 也是不可改变的\n",
    "\n",
    "> 有些对象的 $\\color{#F6BA2C}{值}$ 可以改变。\n",
    "> - 值可以改变的对象被称为 $\\color{#F6BA2C}{可变的}$\n",
    "> - 值不可以改变的对象就被称为 $\\color{#F6BA2C}{不可变的}$\n",
    "> - 一个对象的可变性是由其类型决定的\n",
    "> - 数字、字符串和元组是不可变的\n",
    "> - 字典和列表是可变的\n",
    "\n",
    "> [引用：Python Software Foundation.Python语言参考.数据模型 对象、值与类型.](https://docs.python.org/zh-cn/3/reference/datamodel.html)"
   ]
  },
  {
   "cell_type": "markdown",
   "metadata": {},
   "source": [
    "<p style=\"font-size:24px;\"><b>Python基本数据类型</b></p>\n",
    "<table style=\"font-size:20px;\">\n",
    "    <tr>\n",
    "        <th>内置类型</th>\n",
    "        <th>数据类型</th>\n",
    "        <th>类型</th>\n",
    "        <th>字面量</th>\n",
    "        <th>是否可变</th>\n",
    "    </tr>\n",
    "    <tr>\n",
    "     <td rowspan=\"4\"><font color=\"#F6BA2C\">数字类型</font></td>\n",
    "     <td>整型</td>\n",
    "     <td>int</td>\n",
    "     <td>1, 2, 3</td>\n",
    "     <td rowspan=\"4\">不可变</td>\n",
    "    </tr>\n",
    "    <tr>\n",
    "        <td>布尔型</td>\n",
    "        <td>bool</td>\n",
    "        <td>True, False</td>\n",
    "    </tr>\n",
    "    <tr>\n",
    "        <td>浮点数</td>\n",
    "        <td>float</td>\n",
    "        <td>1.1, 2.3, 3.0</td>\n",
    "    </tr>\n",
    "    <tr>\n",
    "        <td>复数</td>\n",
    "        <td>complex</td>\n",
    "        <td>1+2j, 3+4j</td>\n",
    "    </tr>\n",
    "    <tr>\n",
    "        <td></td><td></td><td></td><td></td><td></td>\n",
    "    </tr>\n",
    "    <tr>\n",
    "     <td rowspan=\"4\"><font color=\"#F6BA2C\">序列类型</font></td>\n",
    "     <td>字符串</td>\n",
    "     <td>str</td>\n",
    "     <td>'Alfred Lab'</td>\n",
    "     <td rowspan=\"3\">不可变</td>\n",
    "    </tr>\n",
    "    <tr>\n",
    "        <td>元组</td>\n",
    "        <td>tuple</td>\n",
    "        <td>(1, 2, 3), (1, )</td>\n",
    "    </tr>\n",
    "    <tr>\n",
    "        <td>字节串</td>\n",
    "        <td>bytes</td>\n",
    "        <td>b'Alfred Lab'</td>\n",
    "    </tr>\n",
    "    <tr>\n",
    "        <td>列表</td>\n",
    "        <td>list</td>\n",
    "        <td>[1, 2, 3]</td>\n",
    "        <td>可变</td>\n",
    "    </tr>\n",
    "    <tr>\n",
    "        <td></td><td></td><td></td><td></td><td></td>\n",
    "    </tr>\n",
    "    <tr>\n",
    "        <td rowspan=\"2\"><font color=\"#F6BA2C\">集合类型</font></td>\n",
    "        <td>集合</td>\n",
    "        <td>set</td>\n",
    "        <td>{1, 2, 3}</td>\n",
    "        <td>可变</td>\n",
    "    </tr>\n",
    "    <tr>\n",
    "        <td>冻结集合</td>\n",
    "        <td>frozenset</td>\n",
    "        <td>frozenset({1, 2, 3})</td>\n",
    "        <td>不可变</td>\n",
    "    </tr>\n",
    "    <tr>\n",
    "        <td></td><td></td><td></td><td></td><td></td>\n",
    "    </tr>\n",
    "    <tr>\n",
    "        <td><font color=\"#F6BA2C\">映射类型</font></td>\n",
    "        <td>字典</td>\n",
    "        <td>dict</td>\n",
    "        <td>{'a': 1, 'b': 2, 'c': 3}</td>\n",
    "        <td>可变</td>\n",
    "    </tr>\n",
    "</table>"
   ]
  },
  {
   "cell_type": "markdown",
   "metadata": {},
   "source": [
    "## 3.1 数字类型及数学运算\n",
    "\n",
    "内置数字类型主要有以下几种：\n",
    "\n",
    "<table style=\"font-size:20px;\">\n",
    "    <tr>\n",
    "        <th>内置类型</th>\n",
    "        <th>数据类型</th>\n",
    "        <th>类型</th>\n",
    "        <th>字面量</th>\n",
    "        <th>是否可变</th>\n",
    "    </tr>\n",
    "    <tr>\n",
    "     <td rowspan=\"4\"><font color=\"#F6BA2C\">数字类型</font></td>\n",
    "     <td>整型</td>\n",
    "     <td>int</td>\n",
    "     <td>1, 2, 3</td>\n",
    "     <td rowspan=\"4\">不可变</td>\n",
    "    </tr>\n",
    "    <tr>\n",
    "        <td>布尔型</td>\n",
    "        <td>bool</td>\n",
    "        <td>True, False</td>\n",
    "    </tr>\n",
    "    <tr>\n",
    "        <td>浮点数</td>\n",
    "        <td>float</td>\n",
    "        <td>1.1, 2.3, 3.0</td>\n",
    "    </tr>\n",
    "    <tr>\n",
    "        <td>复数</td>\n",
    "        <td>complex</td>\n",
    "        <td>1+2j, 3+4j</td>\n",
    "    </tr>\n",
    "</table>\n",
    "\n",
    "- 由于布尔型属于整数的子类型，因此内置基本数字类型包括：整型、浮点数、复数这三种\n",
    "- 数字是由数字字面值或内置函数与运算符的结果来创建的"
   ]
  },
  {
   "cell_type": "markdown",
   "metadata": {},
   "source": [
    "### 3.1.1 整数\n",
    "\n",
    "1. 整数具有无限的精度，可以表示任意位数任意大小的数字\n",
    "2. 不带修饰的整数字面值（包括十六进制、八进制和二进制数）会生成整数\n",
    "3. （十进制）整数可以与十六进制、八进制、二进制相互转换\n",
    "4. 整数除了包含整型（int）外，布尔型（bool）也属于整数的子类型"
   ]
  },
  {
   "cell_type": "markdown",
   "metadata": {},
   "source": [
    "**1. 整数具有无限的精度，可以表示任意位数任意大小的数字**\n",
    "\n",
    "> 相关知识补充：\\\n",
    "> $\\color{#F6BA2C}{函数（function）}$：函数是可以实现某些功能的代码段，可以重复调用，精简代码；它可以接收参数（argument）并在函数体执行中被使用 \\\n",
    "> $\\color{#F6BA2C}{内置函数（built-in functions）}$：Python解释器内置的函数，可以直接调用 \\\n",
    "> [更多阅读：Python内置函数列表](https://docs.python.org/zh-cn/3/library/functions.html)"
   ]
  },
  {
   "cell_type": "code",
   "execution_count": 37,
   "metadata": {},
   "outputs": [
    {
     "data": {
      "text/plain": [
       "1"
      ]
     },
     "execution_count": 37,
     "metadata": {},
     "output_type": "execute_result"
    }
   ],
   "source": [
    "1"
   ]
  },
  {
   "cell_type": "code",
   "execution_count": 39,
   "metadata": {},
   "outputs": [
    {
     "data": {
      "text/plain": [
       "int"
      ]
     },
     "execution_count": 39,
     "metadata": {},
     "output_type": "execute_result"
    }
   ],
   "source": [
    "type(1)"
   ]
  },
  {
   "cell_type": "code",
   "execution_count": 40,
   "metadata": {},
   "outputs": [
    {
     "data": {
      "text/plain": [
       "123456789"
      ]
     },
     "execution_count": 40,
     "metadata": {},
     "output_type": "execute_result"
    }
   ],
   "source": [
    "123456789"
   ]
  },
  {
   "cell_type": "code",
   "execution_count": 41,
   "metadata": {},
   "outputs": [
    {
     "data": {
      "text/plain": [
       "int"
      ]
     },
     "execution_count": 41,
     "metadata": {},
     "output_type": "execute_result"
    }
   ],
   "source": [
    "type(123456789)"
   ]
  },
  {
   "cell_type": "markdown",
   "metadata": {},
   "source": [
    "**2. 不带修饰的整数字面值（包括十六进制、八进制和二进制数）会生成整数**\n",
    "\n",
    "- $\\color{#F6BA2C}{十六进制}$（Hexadecimal，以16为基数）: 以0x或0X开头，后接十六进制数字0-9和a-f\n",
    "- $\\color{#F6BA2C}{八进制}$（Octal，以8为基数）: 以0o或0O开头，后接数字0-7\n",
    "- $\\color{#F6BA2C}{二进制}$（Binary，以2为基数）: 以0b或0B开头，后接数字0或1"
   ]
  },
  {
   "cell_type": "code",
   "execution_count": 50,
   "metadata": {},
   "outputs": [
    {
     "data": {
      "text/plain": [
       "8"
      ]
     },
     "execution_count": 50,
     "metadata": {},
     "output_type": "execute_result"
    }
   ],
   "source": [
    "# 十六进制\n",
    "0x8"
   ]
  },
  {
   "cell_type": "code",
   "execution_count": 51,
   "metadata": {},
   "outputs": [
    {
     "data": {
      "text/plain": [
       "16"
      ]
     },
     "execution_count": 51,
     "metadata": {},
     "output_type": "execute_result"
    }
   ],
   "source": [
    "0x10"
   ]
  },
  {
   "cell_type": "code",
   "execution_count": 52,
   "metadata": {},
   "outputs": [
    {
     "data": {
      "text/plain": [
       "int"
      ]
     },
     "execution_count": 52,
     "metadata": {},
     "output_type": "execute_result"
    }
   ],
   "source": [
    "type(0x10)"
   ]
  },
  {
   "cell_type": "code",
   "execution_count": 58,
   "metadata": {},
   "outputs": [
    {
     "data": {
      "text/plain": [
       "8"
      ]
     },
     "execution_count": 58,
     "metadata": {},
     "output_type": "execute_result"
    }
   ],
   "source": [
    "# 八进制\n",
    "0o10"
   ]
  },
  {
   "cell_type": "code",
   "execution_count": 59,
   "metadata": {},
   "outputs": [
    {
     "data": {
      "text/plain": [
       "int"
      ]
     },
     "execution_count": 59,
     "metadata": {},
     "output_type": "execute_result"
    }
   ],
   "source": [
    "type(0o10)"
   ]
  },
  {
   "cell_type": "code",
   "execution_count": 53,
   "metadata": {},
   "outputs": [
    {
     "data": {
      "text/plain": [
       "8"
      ]
     },
     "execution_count": 53,
     "metadata": {},
     "output_type": "execute_result"
    }
   ],
   "source": [
    "# 二进制\n",
    "0b1000"
   ]
  },
  {
   "cell_type": "code",
   "execution_count": 47,
   "metadata": {},
   "outputs": [
    {
     "data": {
      "text/plain": [
       "int"
      ]
     },
     "execution_count": 47,
     "metadata": {},
     "output_type": "execute_result"
    }
   ],
   "source": [
    "type(0b1000)"
   ]
  },
  {
   "cell_type": "code",
   "execution_count": 104,
   "metadata": {},
   "outputs": [
    {
     "data": {
      "text/plain": [
       "True"
      ]
     },
     "execution_count": 104,
     "metadata": {},
     "output_type": "execute_result"
    }
   ],
   "source": [
    "16 == 0b10000 == 0o20 == 0x10"
   ]
  },
  {
   "cell_type": "markdown",
   "metadata": {},
   "source": [
    "**3. （十进制）整数可以与十六进制、八进制、二进制相互转换**\n",
    "\n",
    "- 使用内置函数 [hex()](https://docs.python.org/zh-cn/3/library/functions.html#hex)、[oct()](https://docs.python.org/zh-cn/3/library/functions.html#oct)、[bin()](https://docs.python.org/zh-cn/3/library/functions.html#bin) 把十进制转换为十六进制（Hexadecimal）、八进制（Octal）、二进制（Binary），以$\\color{#F6BA2C}{字符串}$表示\n",
    "\n",
    "<table style=\"font-size:20px;\">\n",
    "    <tr>\n",
    "        <th> </th>\n",
    "        <th>转换为十六进制</th>\n",
    "        <th>转换为八进制</th>\n",
    "        <th>转换为二进制</th>\n",
    "    </tr>\n",
    "    <tr>\n",
    "     <td><font color=\"#F6BA2C\">十进制</font></td>\n",
    "     <td align='center'>hex()</td>\n",
    "     <td align='center'>oct()</td>\n",
    "     <td align='center'>bin()</td>\n",
    "    </tr>\n",
    "</table>\n"
   ]
  },
  {
   "cell_type": "code",
   "execution_count": 103,
   "metadata": {},
   "outputs": [
    {
     "data": {
      "text/plain": [
       "'0x10'"
      ]
     },
     "execution_count": 103,
     "metadata": {},
     "output_type": "execute_result"
    }
   ],
   "source": [
    "hex(16)"
   ]
  },
  {
   "cell_type": "code",
   "execution_count": 117,
   "metadata": {},
   "outputs": [
    {
     "data": {
      "text/plain": [
       "'0o20'"
      ]
     },
     "execution_count": 117,
     "metadata": {},
     "output_type": "execute_result"
    }
   ],
   "source": [
    "oct(16)"
   ]
  },
  {
   "cell_type": "code",
   "execution_count": 115,
   "metadata": {},
   "outputs": [
    {
     "data": {
      "text/plain": [
       "'0b1000'"
      ]
     },
     "execution_count": 115,
     "metadata": {},
     "output_type": "execute_result"
    }
   ],
   "source": [
    "bin(8)"
   ]
  },
  {
   "cell_type": "markdown",
   "metadata": {},
   "source": [
    "- 十六进制、八进制、二进制$\\color{#F6BA2C}{字符串}$转换为十进制：内置函数 [int()](https://docs.python.org/zh-cn/3/library/functions.html#int)，需要携带 base 参数\n",
    "\n",
    "<table style=\"font-size:20px;\">\n",
    "    <tr>\n",
    "        <th> </th>\n",
    "        <th>转换为十进制</th>\n",
    "    </tr>\n",
    "    <tr>\n",
    "     <td><font color=\"#F6BA2C\">十六进制</font></td>\n",
    "     <td align='center'>int('0x...', base=16)</td>\n",
    "    </tr>\n",
    "    <tr>\n",
    "     <td><font color=\"#F6BA2C\">八进制</font></td>\n",
    "     <td align='center'>int('0o...', base=8)</td>\n",
    "    </tr>\n",
    "    <tr>\n",
    "     <td><font color=\"#F6BA2C\">二进制</font></td>\n",
    "     <td align='center'>int('0b...', base=2)</td>\n",
    "    </tr>\n",
    "</table>\n",
    "\n",
    "- 十六进制、八进制、二进制$\\color{#F6BA2C}{字面值}$转换为十进制：内置函数 [int()](https://docs.python.org/zh-cn/3/library/functions.html#int)"
   ]
  },
  {
   "cell_type": "code",
   "execution_count": 119,
   "metadata": {},
   "outputs": [
    {
     "data": {
      "text/plain": [
       "8"
      ]
     },
     "execution_count": 119,
     "metadata": {},
     "output_type": "execute_result"
    }
   ],
   "source": [
    "int('0b1000', base=2)"
   ]
  },
  {
   "cell_type": "code",
   "execution_count": 120,
   "metadata": {},
   "outputs": [
    {
     "data": {
      "text/plain": [
       "16"
      ]
     },
     "execution_count": 120,
     "metadata": {},
     "output_type": "execute_result"
    }
   ],
   "source": [
    "int('0o20', base=8)"
   ]
  },
  {
   "cell_type": "code",
   "execution_count": 121,
   "metadata": {},
   "outputs": [
    {
     "data": {
      "text/plain": [
       "16"
      ]
     },
     "execution_count": 121,
     "metadata": {},
     "output_type": "execute_result"
    }
   ],
   "source": [
    "int('0x10', base=16)"
   ]
  },
  {
   "cell_type": "code",
   "execution_count": 122,
   "metadata": {},
   "outputs": [
    {
     "data": {
      "text/plain": [
       "8"
      ]
     },
     "execution_count": 122,
     "metadata": {},
     "output_type": "execute_result"
    }
   ],
   "source": [
    "int(0b1000)"
   ]
  },
  {
   "cell_type": "code",
   "execution_count": 123,
   "metadata": {},
   "outputs": [
    {
     "data": {
      "text/plain": [
       "16"
      ]
     },
     "execution_count": 123,
     "metadata": {},
     "output_type": "execute_result"
    }
   ],
   "source": [
    "int(0o20)"
   ]
  },
  {
   "cell_type": "code",
   "execution_count": 124,
   "metadata": {},
   "outputs": [
    {
     "data": {
      "text/plain": [
       "16"
      ]
     },
     "execution_count": 124,
     "metadata": {},
     "output_type": "execute_result"
    }
   ],
   "source": [
    "int(0x10)"
   ]
  },
  {
   "cell_type": "markdown",
   "metadata": {},
   "source": [
    "**4. 整数除了包含整型（int）外，[$\\color{#F6BA2C}{布尔型}$](#3.4-布尔型)（bool）也属于整数的子类型**\n",
    "- True: 真\n",
    "- False: 假"
   ]
  },
  {
   "cell_type": "code",
   "execution_count": 125,
   "metadata": {},
   "outputs": [
    {
     "data": {
      "text/plain": [
       "bool"
      ]
     },
     "execution_count": 125,
     "metadata": {},
     "output_type": "execute_result"
    }
   ],
   "source": [
    "type(True)"
   ]
  },
  {
   "cell_type": "code",
   "execution_count": 126,
   "metadata": {},
   "outputs": [
    {
     "data": {
      "text/plain": [
       "bool"
      ]
     },
     "execution_count": 126,
     "metadata": {},
     "output_type": "execute_result"
    }
   ],
   "source": [
    "type(False)"
   ]
  },
  {
   "cell_type": "code",
   "execution_count": 127,
   "metadata": {},
   "outputs": [
    {
     "data": {
      "text/plain": [
       "True"
      ]
     },
     "execution_count": 127,
     "metadata": {},
     "output_type": "execute_result"
    }
   ],
   "source": [
    "True == 1"
   ]
  },
  {
   "cell_type": "code",
   "execution_count": 128,
   "metadata": {},
   "outputs": [
    {
     "data": {
      "text/plain": [
       "True"
      ]
     },
     "execution_count": 128,
     "metadata": {},
     "output_type": "execute_result"
    }
   ],
   "source": [
    "False == 0"
   ]
  },
  {
   "cell_type": "markdown",
   "metadata": {},
   "source": [
    "### 3.1.2 浮点数\n",
    "\n",
    "1. 浮点数包含小数点和小数部分的数字\n",
    "2. 包含小数点或幂（科学计数标志e或E）的数字字面值会生成浮点数\n",
    "3. 整数或字符串转换为浮点数：[float()](https://docs.python.org/zh-cn/3/library/functions.html#float)"
   ]
  },
  {
   "cell_type": "markdown",
   "metadata": {},
   "source": [
    "**1. 浮点数包含小数点和小数部分的数字**"
   ]
  },
  {
   "cell_type": "code",
   "execution_count": 142,
   "metadata": {},
   "outputs": [
    {
     "data": {
      "text/plain": [
       "3.14"
      ]
     },
     "execution_count": 142,
     "metadata": {},
     "output_type": "execute_result"
    }
   ],
   "source": [
    "3.14"
   ]
  },
  {
   "cell_type": "code",
   "execution_count": 143,
   "metadata": {},
   "outputs": [
    {
     "data": {
      "text/plain": [
       "float"
      ]
     },
     "execution_count": 143,
     "metadata": {},
     "output_type": "execute_result"
    }
   ],
   "source": [
    "type(3.14)"
   ]
  },
  {
   "cell_type": "markdown",
   "metadata": {},
   "source": [
    "**2. 包含小数点或幂（科学计数标志e或E）的数字字面值会生成浮点数： 3.14 、 .1415926 、 2. 、 3.14e3 、 3.14e-03**"
   ]
  },
  {
   "cell_type": "code",
   "execution_count": 144,
   "metadata": {},
   "outputs": [
    {
     "data": {
      "text/plain": [
       "0.1415926"
      ]
     },
     "execution_count": 144,
     "metadata": {},
     "output_type": "execute_result"
    }
   ],
   "source": [
    ".1415926"
   ]
  },
  {
   "cell_type": "code",
   "execution_count": 145,
   "metadata": {},
   "outputs": [
    {
     "data": {
      "text/plain": [
       "2.0"
      ]
     },
     "execution_count": 145,
     "metadata": {},
     "output_type": "execute_result"
    }
   ],
   "source": [
    "2."
   ]
  },
  {
   "cell_type": "code",
   "execution_count": 146,
   "metadata": {},
   "outputs": [
    {
     "data": {
      "text/plain": [
       "3140.0"
      ]
     },
     "execution_count": 146,
     "metadata": {},
     "output_type": "execute_result"
    }
   ],
   "source": [
    "3.14e3"
   ]
  },
  {
   "cell_type": "code",
   "execution_count": 147,
   "metadata": {},
   "outputs": [
    {
     "data": {
      "text/plain": [
       "0.00314"
      ]
     },
     "execution_count": 147,
     "metadata": {},
     "output_type": "execute_result"
    }
   ],
   "source": [
    "3.14e-03"
   ]
  },
  {
   "cell_type": "markdown",
   "metadata": {},
   "source": [
    "**3. 整数或字符串转换为浮点数：[float()](https://docs.python.org/zh-cn/3/library/functions.html#float)**"
   ]
  },
  {
   "cell_type": "code",
   "execution_count": 150,
   "metadata": {},
   "outputs": [
    {
     "data": {
      "text/plain": [
       "3.0"
      ]
     },
     "execution_count": 150,
     "metadata": {},
     "output_type": "execute_result"
    }
   ],
   "source": [
    "float(3)"
   ]
  },
  {
   "cell_type": "code",
   "execution_count": 151,
   "metadata": {},
   "outputs": [
    {
     "data": {
      "text/plain": [
       "30.0"
      ]
     },
     "execution_count": 151,
     "metadata": {},
     "output_type": "execute_result"
    }
   ],
   "source": [
    "float('30')"
   ]
  },
  {
   "cell_type": "code",
   "execution_count": 156,
   "metadata": {},
   "outputs": [
    {
     "data": {
      "text/plain": [
       "inf"
      ]
     },
     "execution_count": 156,
     "metadata": {},
     "output_type": "execute_result"
    }
   ],
   "source": [
    "float('Infinity')"
   ]
  },
  {
   "cell_type": "markdown",
   "metadata": {},
   "source": [
    "### 3.1.3 复数\n",
    "1. 复数(complex)包含$\\color{#F6BA2C}{实部}$和$\\color{#F6BA2C}{虚部}$，分别以一个浮点数表示\n",
    "2. 在数字字面值末尾加上 $\\color{#F6BA2C}{j}$  或 $\\color{#F6BA2C}{J}$ 会生成虚数（实部为零的复数），可以将其与整数或浮点数相加来得到具有实部和虚部的复数\n",
    "3. 从一个复数 z 中提取实部（Real Part）和虚部（Imaginary Part），可使用 z.real 和 z.imag\n",
    "4. 复数可以通过内置函数[complex(real, imag)](https://docs.python.org/zh-cn/3/library/functions.html#complex)来创建"
   ]
  },
  {
   "cell_type": "markdown",
   "metadata": {},
   "source": [
    "**1. 复数(complex)包含$\\color{#F6BA2C}{实部}$和$\\color{#F6BA2C}{虚部}$，分别以一个浮点数表示**"
   ]
  },
  {
   "cell_type": "code",
   "execution_count": 158,
   "metadata": {},
   "outputs": [
    {
     "data": {
      "text/plain": [
       "(1+2j)"
      ]
     },
     "execution_count": 158,
     "metadata": {},
     "output_type": "execute_result"
    }
   ],
   "source": [
    "1+2j"
   ]
  },
  {
   "cell_type": "code",
   "execution_count": 159,
   "metadata": {},
   "outputs": [
    {
     "data": {
      "text/plain": [
       "complex"
      ]
     },
     "execution_count": 159,
     "metadata": {},
     "output_type": "execute_result"
    }
   ],
   "source": [
    "type(1+2j)"
   ]
  },
  {
   "cell_type": "markdown",
   "metadata": {},
   "source": [
    "**2. 在数字字面值末尾加上 $\\color{#F6BA2C}{j}$  或 $\\color{#F6BA2C}{J}$ 会生成虚数（实部为零的复数），可以将其与整数或浮点数相加来得到具有实部和虚部的复数**"
   ]
  },
  {
   "cell_type": "code",
   "execution_count": 160,
   "metadata": {},
   "outputs": [
    {
     "data": {
      "text/plain": [
       "2j"
      ]
     },
     "execution_count": 160,
     "metadata": {},
     "output_type": "execute_result"
    }
   ],
   "source": [
    "2j"
   ]
  },
  {
   "cell_type": "code",
   "execution_count": 161,
   "metadata": {},
   "outputs": [
    {
     "data": {
      "text/plain": [
       "complex"
      ]
     },
     "execution_count": 161,
     "metadata": {},
     "output_type": "execute_result"
    }
   ],
   "source": [
    "type(2j)"
   ]
  },
  {
   "cell_type": "code",
   "execution_count": 163,
   "metadata": {},
   "outputs": [
    {
     "data": {
      "text/plain": [
       "(1+2j)"
      ]
     },
     "execution_count": 163,
     "metadata": {},
     "output_type": "execute_result"
    }
   ],
   "source": [
    "1.0+2j"
   ]
  },
  {
   "cell_type": "markdown",
   "metadata": {},
   "source": [
    "**3. 从一个复数 z 中提取实部（Real Part）和虚部（Imaginary Part），可使用 z.real 和 z.imag**"
   ]
  },
  {
   "cell_type": "code",
   "execution_count": 164,
   "metadata": {},
   "outputs": [],
   "source": [
    "c = 1 + 2j"
   ]
  },
  {
   "cell_type": "code",
   "execution_count": 165,
   "metadata": {},
   "outputs": [
    {
     "data": {
      "text/plain": [
       "1.0"
      ]
     },
     "execution_count": 165,
     "metadata": {},
     "output_type": "execute_result"
    }
   ],
   "source": [
    "c.real"
   ]
  },
  {
   "cell_type": "code",
   "execution_count": 166,
   "metadata": {},
   "outputs": [
    {
     "data": {
      "text/plain": [
       "2.0"
      ]
     },
     "execution_count": 166,
     "metadata": {},
     "output_type": "execute_result"
    }
   ],
   "source": [
    "c.imag"
   ]
  },
  {
   "cell_type": "markdown",
   "metadata": {},
   "source": [
    "**4. 复数可以通过内置函数[complex(real, imag)](https://docs.python.org/zh-cn/3/library/functions.html#complex)来创建**"
   ]
  },
  {
   "cell_type": "code",
   "execution_count": 167,
   "metadata": {},
   "outputs": [
    {
     "data": {
      "text/plain": [
       "(1+2j)"
      ]
     },
     "execution_count": 167,
     "metadata": {},
     "output_type": "execute_result"
    }
   ],
   "source": [
    "complex(1, 2)"
   ]
  },
  {
   "cell_type": "code",
   "execution_count": 168,
   "metadata": {},
   "outputs": [
    {
     "data": {
      "text/plain": [
       "complex"
      ]
     },
     "execution_count": 168,
     "metadata": {},
     "output_type": "execute_result"
    }
   ],
   "source": [
    "type(complex(1, 2))"
   ]
  },
  {
   "cell_type": "markdown",
   "metadata": {},
   "source": [
    "### 3.1.4 数学运算\n",
    "\n",
    "在Python中可以进行常见的$\\color{#F6BA2C}{加、减、乘、除}$等表达式运算，并且可以使用$\\color{#F6BA2C}{圆括号}$，带圆括号的表达式将返回该表达式所产生的计算结果（圆括号内不包含逗号）。除此之外，Python还提供了内置的数学函数和模块来进行更多的数学运算。\n",
    "\n",
    "Python 完全支持$\\color{#F6BA2C}{混合运算}$：当一个二元算术运算符的操作数有不同数值类型时，\"较窄\"类型的操作数会拓宽到另一个操作数的类型，其中整数比浮点数窄，浮点数比复数窄。\n",
    "\n",
    "综上，Python中基本的数据运算方法有：\n",
    "\n",
    "1. 表达式运算符：+、-、*、/等\n",
    "2. 内置数学函数：pow、abs、round、divmod等\n",
    "3. 内置数学模块：math、random等\n",
    "\n",
    "注意：部分运算不支持复数类型\n",
    "\n",
    "> [引用：Python Software Foundation.Python 标准库.数字类型.](https://docs.python.org/zh-cn/3/library/stdtypes.html#numeric-types-int-float-complex)"
   ]
  },
  {
   "cell_type": "markdown",
   "metadata": {},
   "source": [
    "**1. 表达式运算符**\n",
    "\n",
    "<table style=\"font-size:20px;\">\n",
    "    <tr><th>运算符</th><th>运算表达式</th><th>说明</th></tr>\n",
    "    <tr><td><font color=\"#F6BA2C\">+</font></td><td align='center'>x + y</td><td align='center'>x 和 y 的和</td></tr>\n",
    "    <tr><td><font color=\"#F6BA2C\">-</font></td><td align='center'>x - y</td><td align='center'>x 和 y 的差</td></tr>\n",
    "    <tr><td><font color=\"#F6BA2C\">*</font></td><td align='center'>x * y</td><td align='center'>x 和 y 的乘积</td></tr>\n",
    "    <tr><td><font color=\"#F6BA2C\">/</font></td><td align='center'>x / y</td><td align='center'>x 和 y 的商</td></tr>\n",
    "    <tr><td><font color=\"#F6BA2C\">//</font></td><td align='center'>x // y</td><td align='center'> x 和 y 的商数，整数除法</td></tr>\n",
    "    <tr><td><font color=\"#F6BA2C\">%</font></td><td align='center'>x % y</td><td align='center'>x 除以 y 的余数，求模</td></tr>\n",
    "    <tr><td><font color=\"#F6BA2C\">**</font></td><td align='center'>x ** y</td><td align='center'>x 的 y 次幂</td></tr>\n",
    "    <tr><td><font color=\"#F6BA2C\">-</font></td><td align='center'>-x</td><td align='center'>x 取反</td></tr>\n",
    "    <tr><td><font color=\"#F6BA2C\">+</font></td><td align='center'>+x</td><td align='center'>x 不变</td></tr>\n",
    "</table>\n",
    "\n",
    "混合运算遵循优先级：括号 > 乘除 > 加减"
   ]
  },
  {
   "cell_type": "code",
   "execution_count": 186,
   "metadata": {},
   "outputs": [
    {
     "data": {
      "text/plain": [
       "6"
      ]
     },
     "execution_count": 186,
     "metadata": {},
     "output_type": "execute_result"
    }
   ],
   "source": [
    "# 加\n",
    "3 + 3"
   ]
  },
  {
   "cell_type": "code",
   "execution_count": 188,
   "metadata": {},
   "outputs": [
    {
     "data": {
      "text/plain": [
       "7"
      ]
     },
     "execution_count": 188,
     "metadata": {},
     "output_type": "execute_result"
    }
   ],
   "source": [
    "# 减\n",
    "10 - 3"
   ]
  },
  {
   "cell_type": "code",
   "execution_count": 189,
   "metadata": {},
   "outputs": [
    {
     "data": {
      "text/plain": [
       "9"
      ]
     },
     "execution_count": 189,
     "metadata": {},
     "output_type": "execute_result"
    }
   ],
   "source": [
    "# 乘\n",
    "3 * 3"
   ]
  },
  {
   "cell_type": "code",
   "execution_count": 190,
   "metadata": {},
   "outputs": [
    {
     "data": {
      "text/plain": [
       "3.3333333333333335"
      ]
     },
     "execution_count": 190,
     "metadata": {},
     "output_type": "execute_result"
    }
   ],
   "source": [
    "# 除\n",
    "10 / 3"
   ]
  },
  {
   "cell_type": "code",
   "execution_count": 191,
   "metadata": {},
   "outputs": [
    {
     "data": {
      "text/plain": [
       "3"
      ]
     },
     "execution_count": 191,
     "metadata": {},
     "output_type": "execute_result"
    }
   ],
   "source": [
    "# 商数\n",
    "10 // 3"
   ]
  },
  {
   "cell_type": "code",
   "execution_count": 192,
   "metadata": {},
   "outputs": [
    {
     "data": {
      "text/plain": [
       "1"
      ]
     },
     "execution_count": 192,
     "metadata": {},
     "output_type": "execute_result"
    }
   ],
   "source": [
    "# 余数\n",
    "10 % 3"
   ]
  },
  {
   "cell_type": "code",
   "execution_count": 193,
   "metadata": {},
   "outputs": [
    {
     "data": {
      "text/plain": [
       "27"
      ]
     },
     "execution_count": 193,
     "metadata": {},
     "output_type": "execute_result"
    }
   ],
   "source": [
    "# 次幂\n",
    "3 ** 3"
   ]
  },
  {
   "cell_type": "code",
   "execution_count": 198,
   "metadata": {},
   "outputs": [
    {
     "data": {
      "text/plain": [
       "-1"
      ]
     },
     "execution_count": 198,
     "metadata": {},
     "output_type": "execute_result"
    }
   ],
   "source": [
    "# 使用圆括号\n",
    "3 + 4 * (5 - 6)"
   ]
  },
  {
   "cell_type": "code",
   "execution_count": 199,
   "metadata": {},
   "outputs": [
    {
     "data": {
      "text/plain": [
       "27"
      ]
     },
     "execution_count": 199,
     "metadata": {},
     "output_type": "execute_result"
    }
   ],
   "source": [
    "# 使用圆括号\n",
    "3 + 4 * ((5 - 6) + 7)"
   ]
  },
  {
   "cell_type": "code",
   "execution_count": 207,
   "metadata": {},
   "outputs": [
    {
     "data": {
      "text/plain": [
       "3.3"
      ]
     },
     "execution_count": 207,
     "metadata": {},
     "output_type": "execute_result"
    }
   ],
   "source": [
    "1 + 2.3"
   ]
  },
  {
   "cell_type": "code",
   "execution_count": 208,
   "metadata": {},
   "outputs": [
    {
     "data": {
      "text/plain": [
       "(4.2+4j)"
      ]
     },
     "execution_count": 208,
     "metadata": {},
     "output_type": "execute_result"
    }
   ],
   "source": [
    "1.2 + (3 + 4j)"
   ]
  },
  {
   "cell_type": "markdown",
   "metadata": {},
   "source": [
    "**2. 内置数学函数**\n",
    "\n",
    "<table style=\"font-size:20px;\">\n",
    "    <tr><th>内置数学函数</th><th>说明</th></tr>\n",
    "    <tr><td><font color=\"#F6BA2C\">pow(x, y)</font></td><td>x 的 y 次幂</td></tr>\n",
    "    <tr><td><font color=\"#F6BA2C\">abs(x)</font></td><td>x 的绝对值或大小</td></tr>\n",
    "    <tr><td><font color=\"#F6BA2C\">round(x, y)</font></td><td>返回 x 舍入到小数点后 y 位精度的值</td></tr>\n",
    "    <tr><td><font color=\"#F6BA2C\">divmod(x, y)</font></td><td>返回 x 除以 y 的商数和余数</td></tr>\n",
    "    <tr><td><font color=\"#F6BA2C\">int(x)</font></td><td>将 x 转换为整数</td></tr>\n",
    "    <tr><td><font color=\"#F6BA2C\">float(x)</font></td><td>将 x 转换为浮点数</td></tr>\n",
    "    <tr><td><font color=\"#F6BA2C\">complex(x, y)</font></td><td>一个带有实部和虚部的复数</td></tr>\n",
    "</table>"
   ]
  },
  {
   "cell_type": "code",
   "execution_count": 200,
   "metadata": {},
   "outputs": [
    {
     "data": {
      "text/plain": [
       "16"
      ]
     },
     "execution_count": 200,
     "metadata": {},
     "output_type": "execute_result"
    }
   ],
   "source": [
    "# 次幂\n",
    "pow(2, 4)"
   ]
  },
  {
   "cell_type": "code",
   "execution_count": 201,
   "metadata": {},
   "outputs": [
    {
     "data": {
      "text/plain": [
       "100"
      ]
     },
     "execution_count": 201,
     "metadata": {},
     "output_type": "execute_result"
    }
   ],
   "source": [
    "# 绝对值\n",
    "abs(-100)"
   ]
  },
  {
   "cell_type": "code",
   "execution_count": 202,
   "metadata": {},
   "outputs": [
    {
     "data": {
      "text/plain": [
       "3.14"
      ]
     },
     "execution_count": 202,
     "metadata": {},
     "output_type": "execute_result"
    }
   ],
   "source": [
    "# 四舍五入\n",
    "round(3.141592653, 2)"
   ]
  },
  {
   "cell_type": "code",
   "execution_count": 203,
   "metadata": {},
   "outputs": [
    {
     "data": {
      "text/plain": [
       "(3, 1)"
      ]
     },
     "execution_count": 203,
     "metadata": {},
     "output_type": "execute_result"
    }
   ],
   "source": [
    "# 返回 x 除以 y 的商数和余数\n",
    "divmod(10, 3)"
   ]
  },
  {
   "cell_type": "code",
   "execution_count": 206,
   "metadata": {},
   "outputs": [
    {
     "data": {
      "text/plain": [
       "3.0"
      ]
     },
     "execution_count": 206,
     "metadata": {},
     "output_type": "execute_result"
    }
   ],
   "source": [
    "# 可以传入整数或字符串\n",
    "float('3')"
   ]
  },
  {
   "cell_type": "code",
   "execution_count": 205,
   "metadata": {},
   "outputs": [
    {
     "data": {
      "text/plain": [
       "3"
      ]
     },
     "execution_count": 205,
     "metadata": {},
     "output_type": "execute_result"
    }
   ],
   "source": [
    "# 使用int转换浮点数，会舍去小数部分\n",
    "int(3.14)"
   ]
  },
  {
   "cell_type": "markdown",
   "metadata": {},
   "source": [
    "**3. 内置数学模块**\n",
    "- [math](https://docs.python.org/zh-cn/3/library/math.html)： 提供了包括幂函数、对数函数、三角函数等在内的数学函数\n",
    "- [random](https://docs.python.org/zh-cn/3/library/random.html)： 生成各种分布的伪随机数\n",
    "\n",
    "<table style=\"font-size:20px;\">\n",
    "<tr class=\"tableizer-firstrow\"><th>模块方法</th><th>说明</th></tr><tbody>\n",
    " <tr><td><font color=\"#F6BA2C\">math.floor(x)</font></td><td>&lt;= x 的最大 Integral</td></tr>\n",
    " <tr><td><font color=\"#F6BA2C\">math.ceil(x)</font></td><td>&gt;= x 的最小 Integral</td></tr>\n",
    " <tr><td><font color=\"#F6BA2C\">math.sqrt(x)</font></td><td>返回 x 的平方根</td></tr>\n",
    " <tr><td><font color=\"#F6BA2C\">random.seed(x)</font></td><td>使用随机数种子初始化随机数生成器</td></tr>\n",
    " <tr><td><font color=\"#F6BA2C\">random.random()</font></td><td>返回 [0.0, 1.0) 范围内的下一个随机浮点数</td></tr>\n",
    " <tr><td><font color=\"#F6BA2C\">random.randint(x, y)</font></td><td>返回随机整数 N 满足 x &lt;= N &lt;= y</td></tr>\n",
    "</table>"
   ]
  },
  {
   "cell_type": "code",
   "execution_count": 218,
   "metadata": {},
   "outputs": [],
   "source": [
    "# 内置模块使用前需要用import导入\n",
    "import math"
   ]
  },
  {
   "cell_type": "code",
   "execution_count": 219,
   "metadata": {},
   "outputs": [
    {
     "data": {
      "text/plain": [
       "3"
      ]
     },
     "execution_count": 219,
     "metadata": {},
     "output_type": "execute_result"
    }
   ],
   "source": [
    "math.floor(3.1415926)"
   ]
  },
  {
   "cell_type": "code",
   "execution_count": 220,
   "metadata": {},
   "outputs": [
    {
     "data": {
      "text/plain": [
       "4"
      ]
     },
     "execution_count": 220,
     "metadata": {},
     "output_type": "execute_result"
    }
   ],
   "source": [
    "math.ceil(3.1415926)"
   ]
  },
  {
   "cell_type": "code",
   "execution_count": 222,
   "metadata": {},
   "outputs": [
    {
     "data": {
      "text/plain": [
       "4.0"
      ]
     },
     "execution_count": 222,
     "metadata": {},
     "output_type": "execute_result"
    }
   ],
   "source": [
    "# 返回 x 的平方根\n",
    "math.sqrt(16)"
   ]
  },
  {
   "cell_type": "code",
   "execution_count": 221,
   "metadata": {},
   "outputs": [
    {
     "data": {
      "text/plain": [
       "2.0"
      ]
     },
     "execution_count": 221,
     "metadata": {},
     "output_type": "execute_result"
    }
   ],
   "source": [
    "# 返回 x 底为10的对数\n",
    "math.log10(100)"
   ]
  },
  {
   "cell_type": "code",
   "execution_count": 233,
   "metadata": {},
   "outputs": [
    {
     "data": {
      "text/plain": [
       "3.141592653589793"
      ]
     },
     "execution_count": 233,
     "metadata": {},
     "output_type": "execute_result"
    }
   ],
   "source": [
    "# 常量 π\n",
    "math.pi"
   ]
  },
  {
   "cell_type": "code",
   "execution_count": 209,
   "metadata": {},
   "outputs": [],
   "source": [
    "import random"
   ]
  },
  {
   "cell_type": "code",
   "execution_count": 234,
   "metadata": {},
   "outputs": [
    {
     "data": {
      "text/plain": [
       "0.9109759624491242"
      ]
     },
     "execution_count": 234,
     "metadata": {},
     "output_type": "execute_result"
    }
   ],
   "source": [
    "random.random()"
   ]
  },
  {
   "cell_type": "code",
   "execution_count": 240,
   "metadata": {},
   "outputs": [
    {
     "data": {
      "text/plain": [
       "5"
      ]
     },
     "execution_count": 240,
     "metadata": {},
     "output_type": "execute_result"
    }
   ],
   "source": [
    "random.randint(0, 10)"
   ]
  },
  {
   "cell_type": "code",
   "execution_count": 241,
   "metadata": {},
   "outputs": [],
   "source": [
    "random.seed(1234)"
   ]
  },
  {
   "cell_type": "markdown",
   "metadata": {},
   "source": [
    "## 3.2 变量及赋值\n",
    "\n",
    "在Python语言中，$\\color{#F6BA2C}{变量}$(Variable) 是用来引用和表示数据的符号；可以使用赋值符号 $\\color{#F6BA2C}{=}$ 为变量进行赋值，即是把变量和特定数据对象之间建立引用连接\n",
    "\n",
    "<div align=\"center\">\n",
    "<img src=\"3_1.png\" style=\"zoom:40%;\">\n",
    "</div>\n",
    "\n",
    "- 变量在使用前必须先赋值，其在首次赋值时被创建，没有创建变量直接使用会报错\n",
    "- 变量名没有类型，变量的类型指的是其引用对象的类型，变量可以引用任意类型的对象\n",
    "\n",
    "> [引用：Mark Lutz.Python学习手册[M].机械工业出版社:北京,2018:185-186.](https://book.douban.com/subject/30364619/)"
   ]
  },
  {
   "cell_type": "code",
   "execution_count": 266,
   "metadata": {},
   "outputs": [],
   "source": [
    "a = 123"
   ]
  },
  {
   "cell_type": "code",
   "execution_count": 320,
   "metadata": {},
   "outputs": [
    {
     "ename": "NameError",
     "evalue": "name 'alfred' is not defined",
     "output_type": "error",
     "traceback": [
      "\u001b[0;31m---------------------------------------------------------------------------\u001b[0m",
      "\u001b[0;31mNameError\u001b[0m                                 Traceback (most recent call last)",
      "\u001b[0;32m<ipython-input-320-9a812378b294>\u001b[0m in \u001b[0;36m<module>\u001b[0;34m\u001b[0m\n\u001b[0;32m----> 1\u001b[0;31m \u001b[0mprint\u001b[0m\u001b[0;34m(\u001b[0m\u001b[0malfred\u001b[0m\u001b[0;34m)\u001b[0m\u001b[0;34m\u001b[0m\u001b[0;34m\u001b[0m\u001b[0m\n\u001b[0m",
      "\u001b[0;31mNameError\u001b[0m: name 'alfred' is not defined"
     ]
    }
   ],
   "source": [
    "print(alfred)"
   ]
  },
  {
   "cell_type": "code",
   "execution_count": 267,
   "metadata": {},
   "outputs": [
    {
     "data": {
      "text/plain": [
       "4429338784"
      ]
     },
     "execution_count": 267,
     "metadata": {},
     "output_type": "execute_result"
    }
   ],
   "source": [
    "id(123)"
   ]
  },
  {
   "cell_type": "code",
   "execution_count": 268,
   "metadata": {},
   "outputs": [
    {
     "data": {
      "text/plain": [
       "4429338784"
      ]
     },
     "execution_count": 268,
     "metadata": {},
     "output_type": "execute_result"
    }
   ],
   "source": [
    "id(a)"
   ]
  },
  {
   "cell_type": "code",
   "execution_count": 286,
   "metadata": {},
   "outputs": [],
   "source": [
    "a = '456'"
   ]
  },
  {
   "cell_type": "code",
   "execution_count": 287,
   "metadata": {},
   "outputs": [
    {
     "data": {
      "text/plain": [
       "4774393008"
      ]
     },
     "execution_count": 287,
     "metadata": {},
     "output_type": "execute_result"
    }
   ],
   "source": [
    "id(a)"
   ]
  },
  {
   "cell_type": "code",
   "execution_count": 288,
   "metadata": {},
   "outputs": [
    {
     "data": {
      "text/plain": [
       "4774393008"
      ]
     },
     "execution_count": 288,
     "metadata": {},
     "output_type": "execute_result"
    }
   ],
   "source": [
    "id('456')"
   ]
  },
  {
   "cell_type": "markdown",
   "metadata": {},
   "source": [
    "### 3.2.1 变量命名规则\n",
    "\n",
    "变量命名需要遵循以下规则：\n",
    "1. 使用$\\color{#F6BA2C}{大小写字母}$（A-Z a-z）、$\\color{#F6BA2C}{数字}$（0-9）和$\\color{#F6BA2C}{下划线}$（_）\n",
    "2. 不能以数字开头\n",
    "3. 变量名区分大小写\n",
    "4. 变量名不能与关键字相同"
   ]
  },
  {
   "cell_type": "markdown",
   "metadata": {},
   "source": [
    "**1. 使用$\\color{#F6BA2C}{大小写字母}$（A-Z a-z）、$\\color{#F6BA2C}{数字}$（0-9）和$\\color{#F6BA2C}{下划线}$（_）**\n",
    "\n",
    "- 比如：a, b, x1, y2, ball, my_guess\n",
    "- 可以把变量命名为有显而易见的意义的名字，变量的命名是一门艺术，清晰的命名有助于提高代码可读性\n",
    "- 也可以使用中文字符进行命名，但不推荐"
   ]
  },
  {
   "cell_type": "code",
   "execution_count": 314,
   "metadata": {},
   "outputs": [],
   "source": [
    "# 不推荐使用中文字符进行命名\n",
    "球 = 12"
   ]
  },
  {
   "cell_type": "code",
   "execution_count": 315,
   "metadata": {},
   "outputs": [
    {
     "data": {
      "text/plain": [
       "12"
      ]
     },
     "execution_count": 315,
     "metadata": {},
     "output_type": "execute_result"
    }
   ],
   "source": [
    "球"
   ]
  },
  {
   "cell_type": "markdown",
   "metadata": {},
   "source": [
    "**2. 不能以数字开头**"
   ]
  },
  {
   "cell_type": "code",
   "execution_count": 316,
   "metadata": {},
   "outputs": [
    {
     "ename": "SyntaxError",
     "evalue": "invalid syntax (<ipython-input-316-4e6f57ceb44e>, line 1)",
     "output_type": "error",
     "traceback": [
      "\u001b[0;36m  File \u001b[0;32m\"<ipython-input-316-4e6f57ceb44e>\"\u001b[0;36m, line \u001b[0;32m1\u001b[0m\n\u001b[0;31m    2b = 123\u001b[0m\n\u001b[0m     ^\u001b[0m\n\u001b[0;31mSyntaxError\u001b[0m\u001b[0;31m:\u001b[0m invalid syntax\n"
     ]
    }
   ],
   "source": [
    "2b = 123"
   ]
  },
  {
   "cell_type": "markdown",
   "metadata": {},
   "source": [
    "**3. 变量名区分大小写**\n",
    "\n",
    "这个没什么好演示的，rules are rules."
   ]
  },
  {
   "cell_type": "markdown",
   "metadata": {},
   "source": [
    "**4. 变量名不能与关键字相同**\n",
    "\n",
    "[关键字](https://docs.python.org/zh-cn/3/reference/lexical_analysis.html#keywords)（keywords）有特殊的含义和作用，不可以用作变量名、函数名或任何其他标识符\n",
    "\n",
    "```\n",
    "False      await      else       import     pass\n",
    "None       break      except     in         raise\n",
    "True       class      finally    is         return\n",
    "and        continue   for        lambda     try\n",
    "as         def        from       nonlocal   while\n",
    "assert     del        global     not        with\n",
    "async      elif       if         or         yield\n",
    "```"
   ]
  },
  {
   "cell_type": "code",
   "execution_count": 317,
   "metadata": {},
   "outputs": [
    {
     "ename": "SyntaxError",
     "evalue": "invalid syntax (<ipython-input-317-895d32311b90>, line 1)",
     "output_type": "error",
     "traceback": [
      "\u001b[0;36m  File \u001b[0;32m\"<ipython-input-317-895d32311b90>\"\u001b[0;36m, line \u001b[0;32m1\u001b[0m\n\u001b[0;31m    and = 123\u001b[0m\n\u001b[0m    ^\u001b[0m\n\u001b[0;31mSyntaxError\u001b[0m\u001b[0;31m:\u001b[0m invalid syntax\n"
     ]
    }
   ],
   "source": [
    "and = 123"
   ]
  },
  {
   "cell_type": "markdown",
   "metadata": {},
   "source": [
    "### 3.2.2 共享引用\n",
    "\n",
    "一个对象可以被多个变量引用，这称为$\\color{#F6BA2C}{共享引用}$\n",
    "\n",
    "1. 共享引用情况下，多个变量的指针同时指向对象的内存空间\n",
    "2. 如果为其中一个变量赋值$\\color{#F6BA2C}{其它新的对象}$，其它变量不受影响\n",
    "3. 如果通过其中一个变量对其引用的对象$\\color{#F6BA2C}{就地修改}$（不创建新对象），则其它变量也会受影响\n",
    "4. Python解释器在初始化时预先创建了 $\\color{#F6BA2C}{-5到256}$ 之间的整数对象数组，以共享对这些常用整数的引用"
   ]
  },
  {
   "cell_type": "markdown",
   "metadata": {},
   "source": [
    "**1. 共享引用情况下，多个变量的指针同时指向对象的内存空间**\n",
    "\n",
    "<div align=\"center\">\n",
    "<img src=\"3_2.png\" style=\"zoom:40%;\">\n",
    "</div>"
   ]
  },
  {
   "cell_type": "code",
   "execution_count": 300,
   "metadata": {},
   "outputs": [],
   "source": [
    "a = 123"
   ]
  },
  {
   "cell_type": "code",
   "execution_count": 297,
   "metadata": {},
   "outputs": [
    {
     "data": {
      "text/plain": [
       "4429338784"
      ]
     },
     "execution_count": 297,
     "metadata": {},
     "output_type": "execute_result"
    }
   ],
   "source": [
    "id(123)"
   ]
  },
  {
   "cell_type": "code",
   "execution_count": 298,
   "metadata": {},
   "outputs": [
    {
     "data": {
      "text/plain": [
       "4429338784"
      ]
     },
     "execution_count": 298,
     "metadata": {},
     "output_type": "execute_result"
    }
   ],
   "source": [
    "id(a)"
   ]
  },
  {
   "cell_type": "code",
   "execution_count": 301,
   "metadata": {},
   "outputs": [],
   "source": [
    "b = a"
   ]
  },
  {
   "cell_type": "code",
   "execution_count": 303,
   "metadata": {},
   "outputs": [
    {
     "data": {
      "text/plain": [
       "123"
      ]
     },
     "execution_count": 303,
     "metadata": {},
     "output_type": "execute_result"
    }
   ],
   "source": [
    "b"
   ]
  },
  {
   "cell_type": "code",
   "execution_count": 302,
   "metadata": {},
   "outputs": [
    {
     "data": {
      "text/plain": [
       "4429338784"
      ]
     },
     "execution_count": 302,
     "metadata": {},
     "output_type": "execute_result"
    }
   ],
   "source": [
    "id(b)"
   ]
  },
  {
   "cell_type": "markdown",
   "metadata": {},
   "source": [
    "**2. 如果把其中一个变量赋值为其它新的对象，其它变量不受影响**\n",
    "\n",
    "<div align=\"center\">\n",
    "<img src=\"3_3.png\" style=\"zoom:40%;\">\n",
    "</div>"
   ]
  },
  {
   "cell_type": "code",
   "execution_count": 304,
   "metadata": {},
   "outputs": [],
   "source": [
    "a = 123\n",
    "b = a\n",
    "a = '456'"
   ]
  },
  {
   "cell_type": "code",
   "execution_count": 305,
   "metadata": {},
   "outputs": [
    {
     "data": {
      "text/plain": [
       "'456'"
      ]
     },
     "execution_count": 305,
     "metadata": {},
     "output_type": "execute_result"
    }
   ],
   "source": [
    "a"
   ]
  },
  {
   "cell_type": "code",
   "execution_count": 306,
   "metadata": {},
   "outputs": [
    {
     "data": {
      "text/plain": [
       "123"
      ]
     },
     "execution_count": 306,
     "metadata": {},
     "output_type": "execute_result"
    }
   ],
   "source": [
    "b"
   ]
  },
  {
   "cell_type": "markdown",
   "metadata": {},
   "source": [
    "**3. 如果通过其中一个变量对其引用的对象就地修改（不创建新对象），则其它变量也会受影响**\n",
    "\n",
    "<div align=\"center\">\n",
    "<img src=\"3_4.png\" style=\"zoom:40%;\">\n",
    "</div>"
   ]
  },
  {
   "cell_type": "code",
   "execution_count": 307,
   "metadata": {},
   "outputs": [],
   "source": [
    "a = [1, 2, 3]\n",
    "b = a"
   ]
  },
  {
   "cell_type": "code",
   "execution_count": 308,
   "metadata": {},
   "outputs": [
    {
     "data": {
      "text/plain": [
       "[1, 2, 3]"
      ]
     },
     "execution_count": 308,
     "metadata": {},
     "output_type": "execute_result"
    }
   ],
   "source": [
    "a"
   ]
  },
  {
   "cell_type": "code",
   "execution_count": 309,
   "metadata": {},
   "outputs": [
    {
     "data": {
      "text/plain": [
       "[1, 2, 3]"
      ]
     },
     "execution_count": 309,
     "metadata": {},
     "output_type": "execute_result"
    }
   ],
   "source": [
    "b"
   ]
  },
  {
   "cell_type": "code",
   "execution_count": 310,
   "metadata": {},
   "outputs": [],
   "source": [
    "a[1] = 8"
   ]
  },
  {
   "cell_type": "code",
   "execution_count": 311,
   "metadata": {},
   "outputs": [
    {
     "data": {
      "text/plain": [
       "[1, 8, 3]"
      ]
     },
     "execution_count": 311,
     "metadata": {},
     "output_type": "execute_result"
    }
   ],
   "source": [
    "a"
   ]
  },
  {
   "cell_type": "code",
   "execution_count": 312,
   "metadata": {},
   "outputs": [
    {
     "data": {
      "text/plain": [
       "[1, 8, 3]"
      ]
     },
     "execution_count": 312,
     "metadata": {},
     "output_type": "execute_result"
    }
   ],
   "source": [
    "b"
   ]
  },
  {
   "cell_type": "markdown",
   "metadata": {},
   "source": [
    "**4. Python解释器在初始化时预先创建了 $\\color{#F6BA2C}{-5到256}$ 之间的整数对象数组，以共享对这些常用整数的引用**\n",
    "\n",
    "> 当你创建了一个在-5到256之间整数的变量时，你其实只是引用了这个预先已经创建好的整数对象\n",
    "\n",
    "> [引用：Python Software Foundation.Python/C API 参考手册.具体的对象层 整数型对象.](https://docs.python.org/zh-cn/3/c-api/long.html#c.PyLong_FromLong)\n",
    "\n",
    "> 更多讨论可见: [“is” operator behaves unexpectedly with integers](https://stackoverflow.com/questions/306313/is-operator-behaves-unexpectedly-with-integers)"
   ]
  },
  {
   "cell_type": "code",
   "execution_count": 366,
   "metadata": {},
   "outputs": [],
   "source": [
    "a = 256\n",
    "b = 256"
   ]
  },
  {
   "cell_type": "code",
   "execution_count": 367,
   "metadata": {},
   "outputs": [
    {
     "data": {
      "text/plain": [
       "True"
      ]
     },
     "execution_count": 367,
     "metadata": {},
     "output_type": "execute_result"
    }
   ],
   "source": [
    "a is b"
   ]
  },
  {
   "cell_type": "code",
   "execution_count": 368,
   "metadata": {},
   "outputs": [],
   "source": [
    "a = 257\n",
    "b = 257"
   ]
  },
  {
   "cell_type": "code",
   "execution_count": 369,
   "metadata": {},
   "outputs": [
    {
     "data": {
      "text/plain": [
       "False"
      ]
     },
     "execution_count": 369,
     "metadata": {},
     "output_type": "execute_result"
    }
   ],
   "source": [
    "a is b"
   ]
  },
  {
   "cell_type": "markdown",
   "metadata": {},
   "source": [
    "### 3.2.3 多变量赋值\n",
    "\n",
    "在Python中为变量赋值有多种形式，以下为除了普通的赋值形式之外，最常见的两种：\n",
    "\n",
    "1. 在一行中为多个变量赋多个值\n",
    "2. 在一行中为多个变量赋相同的值"
   ]
  },
  {
   "cell_type": "markdown",
   "metadata": {},
   "source": [
    "**1. 在一行中为多个变量赋多个值**\n",
    "\n",
    "该方法即为元组拆包的平行赋值"
   ]
  },
  {
   "cell_type": "code",
   "execution_count": 325,
   "metadata": {},
   "outputs": [],
   "source": [
    "a, b = 123, 456"
   ]
  },
  {
   "cell_type": "code",
   "execution_count": 326,
   "metadata": {},
   "outputs": [
    {
     "data": {
      "text/plain": [
       "123"
      ]
     },
     "execution_count": 326,
     "metadata": {},
     "output_type": "execute_result"
    }
   ],
   "source": [
    "a"
   ]
  },
  {
   "cell_type": "code",
   "execution_count": 327,
   "metadata": {},
   "outputs": [
    {
     "data": {
      "text/plain": [
       "456"
      ]
     },
     "execution_count": 327,
     "metadata": {},
     "output_type": "execute_result"
    }
   ],
   "source": [
    "b"
   ]
  },
  {
   "cell_type": "code",
   "execution_count": 329,
   "metadata": {},
   "outputs": [
    {
     "data": {
      "text/plain": [
       "(123, 456)"
      ]
     },
     "execution_count": 329,
     "metadata": {},
     "output_type": "execute_result"
    }
   ],
   "source": [
    "# 这其实是一个元组\n",
    "123, 456"
   ]
  },
  {
   "cell_type": "markdown",
   "metadata": {},
   "source": [
    "**2. 在一行中为多个变量赋相同的值**\n",
    "\n",
    "但是不推荐使用这种方式赋值"
   ]
  },
  {
   "cell_type": "code",
   "execution_count": 330,
   "metadata": {},
   "outputs": [],
   "source": [
    "a = b = c = 123"
   ]
  },
  {
   "cell_type": "markdown",
   "metadata": {},
   "source": [
    "### 3.2.4 增强赋值\n",
    "\n",
    "> 增强赋值语句就是在单个语句中将二元运算和赋值语句合为一体\n",
    "\n",
    "<table style=\"font-size:20px;\">\n",
    "<tr><th>操作符</th><th>增强赋值语句</th><th>说明</th></tr>\n",
    " <tr><td><font color=\"#F6BA2C\">+=</font></td><td>x += y</td><td>加法赋值，x = x + y</td></tr>\n",
    " <tr><td><font color=\"#F6BA2C\">-=</font></td><td>x -= y</td><td>减法赋值，x = x - y</td></tr>\n",
    " <tr><td><font color=\"#F6BA2C\">*=</font></td><td>x *= y</td><td>乘法赋值，x = x * y</td></tr>\n",
    " <tr><td><font color=\"#F6BA2C\">/=</font></td><td>x /= y</td><td>除法赋值，x = x / y</td></tr>\n",
    " <tr><td><font color=\"#F6BA2C\">//=</font></td><td>x // y</td><td>整除赋值，x = x // y</td></tr>\n",
    " <tr><td><font color=\"#F6BA2C\">%=</font></td><td>x %= y</td><td>求模赋值，x = x % y</td></tr>\n",
    " <tr><td><font color=\"#F6BA2C\">**=</font></td><td>x **= y</td><td>求幂赋值，x = x ** y</td></tr>\n",
    "</table>\n",
    "\n",
    "> [引用：Python Software Foundation.Python语言参考.简单语句 增强赋值语句.](https://docs.python.org/zh-cn/3/reference/simple_stmts.html#augmented-assignment-statements)"
   ]
  },
  {
   "cell_type": "code",
   "execution_count": 375,
   "metadata": {},
   "outputs": [],
   "source": [
    "a = 123"
   ]
  },
  {
   "cell_type": "code",
   "execution_count": 376,
   "metadata": {},
   "outputs": [],
   "source": [
    "a += 1"
   ]
  },
  {
   "cell_type": "code",
   "execution_count": 377,
   "metadata": {},
   "outputs": [
    {
     "data": {
      "text/plain": [
       "124"
      ]
     },
     "execution_count": 377,
     "metadata": {},
     "output_type": "execute_result"
    }
   ],
   "source": [
    "a"
   ]
  },
  {
   "cell_type": "code",
   "execution_count": 378,
   "metadata": {},
   "outputs": [],
   "source": [
    "b = 456"
   ]
  },
  {
   "cell_type": "code",
   "execution_count": 379,
   "metadata": {},
   "outputs": [],
   "source": [
    "b *= 2"
   ]
  },
  {
   "cell_type": "code",
   "execution_count": 380,
   "metadata": {},
   "outputs": [
    {
     "data": {
      "text/plain": [
       "912"
      ]
     },
     "execution_count": 380,
     "metadata": {},
     "output_type": "execute_result"
    }
   ],
   "source": [
    "b"
   ]
  },
  {
   "cell_type": "markdown",
   "metadata": {},
   "source": [
    "## 3.3 字符串及其操作\n",
    "\n",
    "字符串，即用来表示和处理文本数据的 $\\color{#F6BA2C}{str}$ 类型对象，它是由 $\\color{#F6BA2C}{Unicode}$ 码位构成的$\\color{#F6BA2C}{不可变}$ $\\color{#4bcffa}{序列}$\n",
    "\n",
    "- [𝑈𝑛𝑖𝑐𝑜𝑑𝑒](https://zh.wikipedia.org/wiki/Unicode)：即万国码、国际码、统一码，是计算机科学领域里的一项业界标准。它对世界上大部分的文字系统进行了整理、编码，使得电脑可以用更为简单的方式来呈现和处理文字；它解决了传统的Ascii编码的局限性，可以表示世界上大部分的文字\n",
    "- $\\color{#F6BA2C}{不可变}$：不能被改变，如果必须存储一个不同的值，则必须创建新的对象；不可变对象包括数字、字符串和元组等\n",
    "- $\\color{#F6BA2C}{序列（Sequence）}$：可以迭代的sequence，有长度、可索引；内置的序列类型有 list、tuple、range对象 和 str、bytes等\n",
    "\n",
    "\n",
    "> [引用：wikipedia.Unicode](https://zh.wikipedia.org/wiki/Unicode)\n",
    "\n",
    "> [更多Unicode擢这里](https://unicode-table.com/en/blocks/)"
   ]
  },
  {
   "cell_type": "code",
   "execution_count": 446,
   "metadata": {},
   "outputs": [],
   "source": [
    "a = 'alfred'"
   ]
  },
  {
   "cell_type": "code",
   "execution_count": 447,
   "metadata": {},
   "outputs": [
    {
     "name": "stdout",
     "output_type": "stream",
     "text": [
      "alfred\n"
     ]
    }
   ],
   "source": [
    "print(a)"
   ]
  },
  {
   "cell_type": "code",
   "execution_count": 448,
   "metadata": {},
   "outputs": [
    {
     "data": {
      "text/plain": [
       "'A'"
      ]
     },
     "execution_count": 448,
     "metadata": {},
     "output_type": "execute_result"
    }
   ],
   "source": [
    "# Unicode\n",
    "'\\u0041'"
   ]
  },
  {
   "cell_type": "code",
   "execution_count": 449,
   "metadata": {},
   "outputs": [
    {
     "data": {
      "text/plain": [
       "'上'"
      ]
     },
     "execution_count": 449,
     "metadata": {},
     "output_type": "execute_result"
    }
   ],
   "source": [
    "# Unicode\n",
    "'\\u4E0A'"
   ]
  },
  {
   "cell_type": "code",
   "execution_count": 450,
   "metadata": {},
   "outputs": [
    {
     "data": {
      "text/plain": [
       "4771871280"
      ]
     },
     "execution_count": 450,
     "metadata": {},
     "output_type": "execute_result"
    }
   ],
   "source": [
    "# 不可变\n",
    "id(a)"
   ]
  },
  {
   "cell_type": "code",
   "execution_count": 451,
   "metadata": {},
   "outputs": [
    {
     "data": {
      "text/plain": [
       "'alfred lab'"
      ]
     },
     "execution_count": 451,
     "metadata": {},
     "output_type": "execute_result"
    }
   ],
   "source": [
    "a = a + ' lab'\n",
    "a"
   ]
  },
  {
   "cell_type": "code",
   "execution_count": 452,
   "metadata": {},
   "outputs": [
    {
     "data": {
      "text/plain": [
       "4771627696"
      ]
     },
     "execution_count": 452,
     "metadata": {},
     "output_type": "execute_result"
    }
   ],
   "source": [
    "id(a)"
   ]
  },
  {
   "cell_type": "code",
   "execution_count": 453,
   "metadata": {},
   "outputs": [
    {
     "data": {
      "text/plain": [
       "10"
      ]
     },
     "execution_count": 453,
     "metadata": {},
     "output_type": "execute_result"
    }
   ],
   "source": [
    "# 有长度\n",
    "len(a)"
   ]
  },
  {
   "cell_type": "code",
   "execution_count": 454,
   "metadata": {},
   "outputs": [
    {
     "data": {
      "text/plain": [
       "'r'"
      ]
     },
     "execution_count": 454,
     "metadata": {},
     "output_type": "execute_result"
    }
   ],
   "source": [
    "# 可索引\n",
    "a[3]"
   ]
  },
  {
   "cell_type": "markdown",
   "metadata": {},
   "source": [
    "### 3.3.1 字符串创建\n",
    "\n",
    "字符串创建方法有多种，以下为常见的几种：\n",
    "\n",
    "1. 单引号：'Alfred'\n",
    "2. 双引号：\"Alfred\"\n",
    "3. 三重引号：'''Alfred''' 或 \"\"\"Alfred\"\"\"\n",
    "4. 通过 str 构造器从其他对象创建\n",
    "\n",
    "$\\color{#F6BA2C}{注意：必须是英文输入法的引号！！！}$"
   ]
  },
  {
   "cell_type": "markdown",
   "metadata": {},
   "source": [
    "**1. 单引号**"
   ]
  },
  {
   "cell_type": "code",
   "execution_count": 458,
   "metadata": {},
   "outputs": [],
   "source": [
    "a = 'alfred'"
   ]
  },
  {
   "cell_type": "code",
   "execution_count": 459,
   "metadata": {},
   "outputs": [
    {
     "data": {
      "text/plain": [
       "str"
      ]
     },
     "execution_count": 459,
     "metadata": {},
     "output_type": "execute_result"
    }
   ],
   "source": [
    "type(a)"
   ]
  },
  {
   "cell_type": "markdown",
   "metadata": {},
   "source": [
    "**2. 双引号**\n",
    "\n",
    "注意：单引号和双引号作用是一样的，创建字符串时$\\color{#F6BA2C}{成对出现}$ ，注意不要写混了"
   ]
  },
  {
   "cell_type": "code",
   "execution_count": 460,
   "metadata": {},
   "outputs": [],
   "source": [
    "a = \"alfred\""
   ]
  },
  {
   "cell_type": "code",
   "execution_count": 461,
   "metadata": {},
   "outputs": [
    {
     "data": {
      "text/plain": [
       "str"
      ]
     },
     "execution_count": 461,
     "metadata": {},
     "output_type": "execute_result"
    }
   ],
   "source": [
    "type(a)"
   ]
  },
  {
   "cell_type": "code",
   "execution_count": 463,
   "metadata": {},
   "outputs": [
    {
     "ename": "SyntaxError",
     "evalue": "EOL while scanning string literal (<ipython-input-463-2acaecd2a2cf>, line 1)",
     "output_type": "error",
     "traceback": [
      "\u001b[0;36m  File \u001b[0;32m\"<ipython-input-463-2acaecd2a2cf>\"\u001b[0;36m, line \u001b[0;32m1\u001b[0m\n\u001b[0;31m    a = 'alfred\"\u001b[0m\n\u001b[0m                ^\u001b[0m\n\u001b[0;31mSyntaxError\u001b[0m\u001b[0;31m:\u001b[0m EOL while scanning string literal\n"
     ]
    }
   ],
   "source": [
    "a = 'alfred\""
   ]
  },
  {
   "cell_type": "code",
   "execution_count": 466,
   "metadata": {},
   "outputs": [
    {
     "ename": "SyntaxError",
     "evalue": "invalid syntax (<ipython-input-466-32a2953ed5d3>, line 2)",
     "output_type": "error",
     "traceback": [
      "\u001b[0;36m  File \u001b[0;32m\"<ipython-input-466-32a2953ed5d3>\"\u001b[0;36m, line \u001b[0;32m2\u001b[0m\n\u001b[0;31m    a = 'alfred's cat'\u001b[0m\n\u001b[0m                ^\u001b[0m\n\u001b[0;31mSyntaxError\u001b[0m\u001b[0;31m:\u001b[0m invalid syntax\n"
     ]
    }
   ],
   "source": [
    "# 如何写 alfred's cat ?\n",
    "a = 'alfred's cat'"
   ]
  },
  {
   "cell_type": "code",
   "execution_count": 469,
   "metadata": {},
   "outputs": [
    {
     "data": {
      "text/plain": [
       "\"alfred's cat\""
      ]
     },
     "execution_count": 469,
     "metadata": {},
     "output_type": "execute_result"
    }
   ],
   "source": [
    "a = \"alfred's cat\"\n",
    "a"
   ]
  },
  {
   "cell_type": "markdown",
   "metadata": {},
   "source": [
    "**3. 三重引号**\n",
    "\n",
    "用于编写多行文本，三重引号内的所有文本内容都视为字符串"
   ]
  },
  {
   "cell_type": "code",
   "execution_count": 472,
   "metadata": {},
   "outputs": [
    {
     "data": {
      "text/plain": [
       "\"alfred's cat,\\nvery very bad,\\nnot only ugly,\\nbut also fat.\\n\""
      ]
     },
     "execution_count": 472,
     "metadata": {},
     "output_type": "execute_result"
    }
   ],
   "source": [
    "a = '''alfred's cat,\n",
    "very very bad,\n",
    "not only ugly,\n",
    "but also fat.\n",
    "'''\n",
    "a"
   ]
  },
  {
   "cell_type": "markdown",
   "metadata": {},
   "source": [
    "**4. 通过 str 构造器从其他对象创建**"
   ]
  },
  {
   "cell_type": "code",
   "execution_count": 473,
   "metadata": {},
   "outputs": [
    {
     "data": {
      "text/plain": [
       "'123'"
      ]
     },
     "execution_count": 473,
     "metadata": {},
     "output_type": "execute_result"
    }
   ],
   "source": [
    "str(123)"
   ]
  },
  {
   "cell_type": "code",
   "execution_count": 474,
   "metadata": {},
   "outputs": [
    {
     "data": {
      "text/plain": [
       "'3.1415926'"
      ]
     },
     "execution_count": 474,
     "metadata": {},
     "output_type": "execute_result"
    }
   ],
   "source": [
    "str(3.1415926)"
   ]
  },
  {
   "cell_type": "code",
   "execution_count": 475,
   "metadata": {},
   "outputs": [
    {
     "data": {
      "text/plain": [
       "'(1+2j)'"
      ]
     },
     "execution_count": 475,
     "metadata": {},
     "output_type": "execute_result"
    }
   ],
   "source": [
    "str(1 + 2j)"
   ]
  },
  {
   "cell_type": "markdown",
   "metadata": {},
   "source": [
    "### 3.3.2 转义序列\n",
    "\n",
    "$\\color{#F6BA2C}{反斜杠}$ \\ 字符被用来对特殊含义的字符进行转义，比如换行符、引号或者它本身\n",
    "\n",
    "1. 常用的转义序列有：\n",
    "\n",
    "<table style=\"font-size:20px;\">\n",
    "<tr><th>转义序列</th><th>含义</th></tr>\n",
    " <tr><td><font color=\"#F6BA2C\">\\\\</font></td><td>反斜杠（保留一个\\）</td></tr>\n",
    " <tr><td><font color=\"#F6BA2C\">\\'</font></td><td>单引号（保留'）</td></tr>\n",
    " <tr><td><font color=\"#F6BA2C\">\\\"</font></td><td>双引号（保留\")</td></tr>\n",
    " <tr><td><font color=\"#F6BA2C\">\\n</font></td><td>换行</td></tr>\n",
    " <tr><td><font color=\"#F6BA2C\">\\t</font></td><td>水平制表符</td></tr>\n",
    "</table>\n",
    "\n",
    "2. 使用 $\\color{#F6BA2C}{r}$ 来禁用转义序列\n",
    "\n",
    "> [更多的转义序列可见：字符串字面值中可用的转义序列](https://docs.python.org/zh-cn/3/reference/lexical_analysis.html#string-and-bytes-literals)"
   ]
  },
  {
   "cell_type": "markdown",
   "metadata": {},
   "source": [
    "**1. 常用的转义序列**"
   ]
  },
  {
   "cell_type": "code",
   "execution_count": 486,
   "metadata": {},
   "outputs": [
    {
     "name": "stdout",
     "output_type": "stream",
     "text": [
      "C:\n",
      "b\text_cat.txt\n"
     ]
    }
   ],
   "source": [
    "file_path = 'C:\\nb\\text_cat.txt'\n",
    "print(file_path)"
   ]
  },
  {
   "cell_type": "code",
   "execution_count": 487,
   "metadata": {},
   "outputs": [
    {
     "name": "stdout",
     "output_type": "stream",
     "text": [
      "C:\\nb\\text_cat.txt\n"
     ]
    }
   ],
   "source": [
    "file_path = 'C:\\\\nb\\\\text_cat.txt'\n",
    "print(file_path)"
   ]
  },
  {
   "cell_type": "code",
   "execution_count": 488,
   "metadata": {},
   "outputs": [
    {
     "data": {
      "text/plain": [
       "\"alfred's cat\""
      ]
     },
     "execution_count": 488,
     "metadata": {},
     "output_type": "execute_result"
    }
   ],
   "source": [
    "a = 'alfred\\'s cat'\n",
    "a"
   ]
  },
  {
   "cell_type": "code",
   "execution_count": 489,
   "metadata": {},
   "outputs": [
    {
     "name": "stdout",
     "output_type": "stream",
     "text": [
      "alfred's cat,\n",
      "very very bad,\n",
      "not only ugly,\n",
      "but also fat.\n",
      "\n"
     ]
    }
   ],
   "source": [
    "print(\"alfred's cat,\\nvery very bad,\\nnot only ugly,\\nbut also fat.\\n\")"
   ]
  },
  {
   "cell_type": "code",
   "execution_count": 490,
   "metadata": {},
   "outputs": [
    {
     "name": "stdout",
     "output_type": "stream",
     "text": [
      "alfred\tlab\n"
     ]
    }
   ],
   "source": [
    "print('alfred\\tlab')"
   ]
  },
  {
   "cell_type": "markdown",
   "metadata": {},
   "source": [
    "**2. 使用 $\\color{#F6BA2C}{r}$ 来禁用转义序列**\n",
    "\n",
    "转义序列的存在有时候会造成一些麻烦，可以使用 r 来禁用转义序列，r 即是“raw”的意思"
   ]
  },
  {
   "cell_type": "code",
   "execution_count": 492,
   "metadata": {},
   "outputs": [
    {
     "name": "stdout",
     "output_type": "stream",
     "text": [
      "C:\\nb\\text_cat.txt\n"
     ]
    }
   ],
   "source": [
    "file_path = r'C:\\nb\\text_cat.txt'\n",
    "print(file_path)"
   ]
  },
  {
   "cell_type": "markdown",
   "metadata": {},
   "source": [
    "### 3.3.3 字符串的通用序列操作\n",
    "\n",
    "通用序列操作，也就是包括可变序列和不可变序列都支持的操作。因为字符串是不可变序列，因此字符串也通用以下的操作：\n",
    "\n",
    "<table style=\"font-size:20px;\">\n",
    "<tr><th>通用序列操作</th><th>说明</th></tr>\n",
    " <tr><td><font color=\"#F6BA2C\">x in s</font></td><td>如果 s 中的某项等于 x 则结果为 True，否则为 False</td></tr>\n",
    " <tr><td><font color=\"#F6BA2C\">x not in s</font></td><td>如果 s 中的某项等于 x 则结果为 False，否则为 True</td></tr>\n",
    " <tr><td><font color=\"#F6BA2C\">s + t</font></td><td>s 与 t 相拼接</td></tr>\n",
    " <tr><td><font color=\"#F6BA2C\">s * n 或 n * s</font></td><td>相当于 s 与自身进行 n 次拼接</td></tr>\n",
    " <tr><td><font color=\"#F6BA2C\">len(s)</font></td><td>s 的长度</td></tr>\n",
    " <tr><td><font color=\"#F6BA2C\">min(s)</font></td><td>s 的最小项</td></tr>\n",
    " <tr><td><font color=\"#F6BA2C\">max(s)</font></td><td>s 的最大项</td></tr>\n",
    " <tr><td><font color=\"#F6BA2C\">s.index(x)</font></td><td>x 在 s 中首次出现项的索引号</td></tr>\n",
    " <tr><td><font color=\"#F6BA2C\">s.count(x)</font></td><td>x 在 s 中出现的总次数</td></tr>\n",
    " <tr><td><font color=\"#F6BA2C\">s[i]</font></td><td>索引，s 的第 i 项，起始为 0</td></tr>\n",
    " <tr><td><font color=\"#F6BA2C\">s[i:j]</font></td><td>s 从 i 到 j 的切片</td></tr>\n",
    " <tr><td><font color=\"#F6BA2C\">s[i:j:k]</font></td><td>s 从 i 到 j 步长为 k 的切片</td></tr>\n",
    "</table>\n",
    "\n",
    "> 说明：s 和 t 是具有相同类型的序列，n, i, j 和 k 是整数而 x 是任何满足 s 所规定的类型和值限制的任意对象\n",
    "\n",
    "> [引用：Python Software Foundation.Python 标准库.内置类型 通用序列操作.](https://docs.python.org/zh-cn/3/library/stdtypes.html#common-sequence-operations)\n",
    "\n",
    "其中，需要重点关注的就是：\n",
    "1. 索引\n",
    "2. 切片"
   ]
  },
  {
   "cell_type": "code",
   "execution_count": 505,
   "metadata": {},
   "outputs": [
    {
     "data": {
      "text/plain": [
       "True"
      ]
     },
     "execution_count": 505,
     "metadata": {},
     "output_type": "execute_result"
    }
   ],
   "source": [
    "# x in s\n",
    "a = 'alfred'\n",
    "'f' in a"
   ]
  },
  {
   "cell_type": "code",
   "execution_count": 506,
   "metadata": {},
   "outputs": [
    {
     "data": {
      "text/plain": [
       "True"
      ]
     },
     "execution_count": 506,
     "metadata": {},
     "output_type": "execute_result"
    }
   ],
   "source": [
    "# x not in s\n",
    "'s' not in a"
   ]
  },
  {
   "cell_type": "code",
   "execution_count": 507,
   "metadata": {},
   "outputs": [
    {
     "data": {
      "text/plain": [
       "'alfred lab'"
      ]
     },
     "execution_count": 507,
     "metadata": {},
     "output_type": "execute_result"
    }
   ],
   "source": [
    "# s + t\n",
    "a + ' lab'"
   ]
  },
  {
   "cell_type": "code",
   "execution_count": 508,
   "metadata": {},
   "outputs": [
    {
     "data": {
      "text/plain": [
       "'alfredalfredalfred'"
      ]
     },
     "execution_count": 508,
     "metadata": {},
     "output_type": "execute_result"
    }
   ],
   "source": [
    "a * 3"
   ]
  },
  {
   "cell_type": "code",
   "execution_count": 510,
   "metadata": {},
   "outputs": [
    {
     "data": {
      "text/plain": [
       "'a'"
      ]
     },
     "execution_count": 510,
     "metadata": {},
     "output_type": "execute_result"
    }
   ],
   "source": [
    "min(a)"
   ]
  },
  {
   "cell_type": "code",
   "execution_count": 511,
   "metadata": {},
   "outputs": [
    {
     "data": {
      "text/plain": [
       "'r'"
      ]
     },
     "execution_count": 511,
     "metadata": {},
     "output_type": "execute_result"
    }
   ],
   "source": [
    "max(a)"
   ]
  },
  {
   "cell_type": "code",
   "execution_count": 512,
   "metadata": {},
   "outputs": [
    {
     "data": {
      "text/plain": [
       "2"
      ]
     },
     "execution_count": 512,
     "metadata": {},
     "output_type": "execute_result"
    }
   ],
   "source": [
    "a = 'alfred lab'\n",
    "a.count('a')"
   ]
  },
  {
   "cell_type": "code",
   "execution_count": 513,
   "metadata": {},
   "outputs": [
    {
     "data": {
      "text/plain": [
       "1"
      ]
     },
     "execution_count": 513,
     "metadata": {},
     "output_type": "execute_result"
    }
   ],
   "source": [
    "a.count('b')"
   ]
  },
  {
   "cell_type": "markdown",
   "metadata": {},
   "source": [
    "**1. 索引**\n",
    "<div align=\"center\">\n",
    "<img src=\"3_5.png\" style=\"zoom:50%;\">\n",
    "</div>\n",
    "\n",
    "- 序列（sequence）之所以被称为序列，是因为它是有序的。因此，序列可以通过位置来访问它的元素，该操作被称为$\\color{#F6BA2C}{索引（index）}$\n",
    "- 索引操作使用$\\color{#F6BA2C}{方括号[ ]}$，并在方括号内填入需要索引的元素位置（偏移量）\n",
    "- 从最左边开始的索引偏移量$\\color{#F6BA2C}{从0开始}$，从最右边开始的索引偏移量$\\color{#F6BA2C}{从-1开始}$\n",
    "\n",
    "<div align=\"center\">\n",
    "<img src=\"3_7.png\" style=\"zoom:50%;\">\n",
    "</div>"
   ]
  },
  {
   "cell_type": "code",
   "execution_count": 514,
   "metadata": {},
   "outputs": [],
   "source": [
    "a = 'alfred'"
   ]
  },
  {
   "cell_type": "code",
   "execution_count": 515,
   "metadata": {},
   "outputs": [
    {
     "data": {
      "text/plain": [
       "'a'"
      ]
     },
     "execution_count": 515,
     "metadata": {},
     "output_type": "execute_result"
    }
   ],
   "source": [
    "a[0]"
   ]
  },
  {
   "cell_type": "code",
   "execution_count": 516,
   "metadata": {},
   "outputs": [
    {
     "data": {
      "text/plain": [
       "'e'"
      ]
     },
     "execution_count": 516,
     "metadata": {},
     "output_type": "execute_result"
    }
   ],
   "source": [
    "a[4]"
   ]
  },
  {
   "cell_type": "code",
   "execution_count": 517,
   "metadata": {},
   "outputs": [
    {
     "data": {
      "text/plain": [
       "'d'"
      ]
     },
     "execution_count": 517,
     "metadata": {},
     "output_type": "execute_result"
    }
   ],
   "source": [
    "a[-1]"
   ]
  },
  {
   "cell_type": "code",
   "execution_count": 518,
   "metadata": {},
   "outputs": [
    {
     "data": {
      "text/plain": [
       "'l'"
      ]
     },
     "execution_count": 518,
     "metadata": {},
     "output_type": "execute_result"
    }
   ],
   "source": [
    "a[-5]"
   ]
  },
  {
   "cell_type": "markdown",
   "metadata": {},
   "source": [
    "**2. 切片**\n",
    "\n",
    "<div align=\"center\">\n",
    "<img src=\"3_6.png\" style=\"zoom:50%;\">\n",
    "</div>\n",
    "\n",
    "- $\\color{#F6BA2C}{切片（slice）}$ 即通过指定序列索引区间来提取对应子序列的操作\n",
    "- 切片使用$\\color{#F6BA2C}{方括号[ ]}$，并在方括号内填入左边索引、冒号 : 和右边索引\n",
    "- 切片操作会选取从左边索引到右边索引前一个元素（也就是$\\color{#F6BA2C}{左闭右开}$），并返回一个新的序列\n",
    "\n",
    "$\\color{#F6BA2C}{注意：必须是英文输入法的冒号！！！}$\n",
    "\n",
    "<div align=\"center\">\n",
    "<img src=\"3_7.png\" style=\"zoom:50%;\">\n",
    "</div>"
   ]
  },
  {
   "cell_type": "code",
   "execution_count": 525,
   "metadata": {},
   "outputs": [],
   "source": [
    "a = 'alfred'"
   ]
  },
  {
   "cell_type": "code",
   "execution_count": 526,
   "metadata": {},
   "outputs": [
    {
     "data": {
      "text/plain": [
       "'lfr'"
      ]
     },
     "execution_count": 526,
     "metadata": {},
     "output_type": "execute_result"
    }
   ],
   "source": [
    "a[1:4]"
   ]
  },
  {
   "cell_type": "markdown",
   "metadata": {},
   "source": [
    "- 常见的切片操作有：\n",
    "<table style=\"font-size:20px;\">\n",
    "    <tr><th>常见的切片操作</th><th>说明</th></tr>\n",
    "    <tr><td><font color=\"#F6BA2C\">s[i:j]</font></td><td>s 从 i 到 j 的切片</td></tr>\n",
    "    <tr><td><font color=\"#F6BA2C\">s[i:]</font></td><td>s 从 i 到 最后 的切片</td></tr>\n",
    "    <tr><td><font color=\"#F6BA2C\">s[:i]</font></td><td>s 从 0 到 i 的切片</td></tr>\n",
    "    <tr><td><font color=\"#F6BA2C\">s[i:j:k]</font></td><td>s 从 i 到 j 步长为 k 的切片</td></tr>\n",
    "</table>"
   ]
  },
  {
   "cell_type": "code",
   "execution_count": 527,
   "metadata": {},
   "outputs": [
    {
     "data": {
      "text/plain": [
       "'red'"
      ]
     },
     "execution_count": 527,
     "metadata": {},
     "output_type": "execute_result"
    }
   ],
   "source": [
    "a[3:]"
   ]
  },
  {
   "cell_type": "code",
   "execution_count": 528,
   "metadata": {},
   "outputs": [
    {
     "data": {
      "text/plain": [
       "'alf'"
      ]
     },
     "execution_count": 528,
     "metadata": {},
     "output_type": "execute_result"
    }
   ],
   "source": [
    "a[:3]"
   ]
  },
  {
   "cell_type": "code",
   "execution_count": 529,
   "metadata": {},
   "outputs": [
    {
     "data": {
      "text/plain": [
       "'lr'"
      ]
     },
     "execution_count": 529,
     "metadata": {},
     "output_type": "execute_result"
    }
   ],
   "source": [
    "a[1:5:2]"
   ]
  },
  {
   "cell_type": "code",
   "execution_count": 530,
   "metadata": {},
   "outputs": [
    {
     "data": {
      "text/plain": [
       "'afe'"
      ]
     },
     "execution_count": 530,
     "metadata": {},
     "output_type": "execute_result"
    }
   ],
   "source": [
    "a[::2]"
   ]
  },
  {
   "cell_type": "code",
   "execution_count": 531,
   "metadata": {},
   "outputs": [
    {
     "data": {
      "text/plain": [
       "'derfla'"
      ]
     },
     "execution_count": 531,
     "metadata": {},
     "output_type": "execute_result"
    }
   ],
   "source": [
    "a[::-1]"
   ]
  },
  {
   "cell_type": "code",
   "execution_count": 532,
   "metadata": {},
   "outputs": [
    {
     "data": {
      "text/plain": [
       "'alfred'"
      ]
     },
     "execution_count": 532,
     "metadata": {},
     "output_type": "execute_result"
    }
   ],
   "source": [
    "a"
   ]
  },
  {
   "cell_type": "markdown",
   "metadata": {},
   "source": [
    "### 3.3.4 字符串方法\n",
    "\n",
    "除了通用的序列操作之外，字符串还有很多用于文本处理的$\\color{#F6BA2C}{方法（method）}$；\\\n",
    "常用的字符串方法有：\n",
    "\n",
    "<table style=\"font-size:19px;\">\n",
    "    <tr><th>字符串方法</th><th>说明</th></tr>\n",
    " <tr><td><font color=\"#F6BA2C\">s.index(x)</font></td><td>x 在 s 中首次出现项的索引号，如果 sub 未被找到则引发 ValueError</td></tr>\n",
    " <tr><td><font color=\"#F6BA2C\">s.count(x)</font></td><td>x 在 s 中出现的总次数</td></tr>\n",
    " <tr><td><font color=\"#F6BA2C\">s.find(x)</font></td><td>x 在 s 中首次出现项的索引号，如果 x 未被找到则返回 -1</td></tr>\n",
    " <tr><td><font color=\"#F6BA2C\">s.format()</font></td><td>执行字符串格式化操作</td></tr>\n",
    " <tr><td><font color=\"#F6BA2C\">s.join(iterable)</font></td><td>返回一个由 iterable 中的字符串拼接而成的字符串</td></tr>\n",
    " <tr><td><font color=\"#F6BA2C\">s.lower()</font></td><td>把 s 中所有区分大小写的字符均转换为小写</td></tr>\n",
    " <tr><td><font color=\"#F6BA2C\">s.replace(old, new)</font></td><td>把 s 中出现的所有子字符串 old 都将被替换为 new</td></tr>\n",
    " <tr><td><font color=\"#F6BA2C\">s.split(sep)</font></td><td>以 sep 作为分隔符来拆分 s ，并返回一个列表</td></tr>\n",
    " <tr><td><font color=\"#F6BA2C\">s.strip()</font></td><td>移除 s 中指定的前端和末尾字符，若不指定，则移除空格符</td></tr>\n",
    " <tr><td><font color=\"#F6BA2C\">s.upper()</font></td><td>把 s 中所有区分大小写的字符均转换为大写</td></tr>\n",
    "</table>\n",
    "\n",
    "> 相关知识补充：\\\n",
    "> $\\color{#F6BA2C}{方法（method）}$：方法是在类内部定义的函数 \\\n",
    "> [更多必读内容：字符串的方法](https://docs.python.org/zh-cn/3/library/stdtypes.html#string-methods)"
   ]
  },
  {
   "cell_type": "code",
   "execution_count": 580,
   "metadata": {},
   "outputs": [],
   "source": [
    "a = 'alfred lab'"
   ]
  },
  {
   "cell_type": "code",
   "execution_count": 582,
   "metadata": {},
   "outputs": [
    {
     "data": {
      "text/plain": [
       "1"
      ]
     },
     "execution_count": 582,
     "metadata": {},
     "output_type": "execute_result"
    }
   ],
   "source": [
    "a.index('l')"
   ]
  },
  {
   "cell_type": "code",
   "execution_count": 583,
   "metadata": {},
   "outputs": [
    {
     "data": {
      "text/plain": [
       "0"
      ]
     },
     "execution_count": 583,
     "metadata": {},
     "output_type": "execute_result"
    }
   ],
   "source": [
    "a.find('a')"
   ]
  },
  {
   "cell_type": "code",
   "execution_count": 586,
   "metadata": {},
   "outputs": [
    {
     "data": {
      "text/plain": [
       "2"
      ]
     },
     "execution_count": 586,
     "metadata": {},
     "output_type": "execute_result"
    }
   ],
   "source": [
    "a.count('a')"
   ]
  },
  {
   "cell_type": "code",
   "execution_count": 588,
   "metadata": {},
   "outputs": [
    {
     "data": {
      "text/plain": [
       "'a-l-f-r-e-d'"
      ]
     },
     "execution_count": 588,
     "metadata": {},
     "output_type": "execute_result"
    }
   ],
   "source": [
    "'-'.join('alfred')"
   ]
  },
  {
   "cell_type": "code",
   "execution_count": 589,
   "metadata": {},
   "outputs": [
    {
     "data": {
      "text/plain": [
       "'alfred lab'"
      ]
     },
     "execution_count": 589,
     "metadata": {},
     "output_type": "execute_result"
    }
   ],
   "source": [
    "'Alfred Lab'.lower()"
   ]
  },
  {
   "cell_type": "code",
   "execution_count": 590,
   "metadata": {},
   "outputs": [
    {
     "data": {
      "text/plain": [
       "'ALFRED LAB'"
      ]
     },
     "execution_count": 590,
     "metadata": {},
     "output_type": "execute_result"
    }
   ],
   "source": [
    "a.upper()"
   ]
  },
  {
   "cell_type": "code",
   "execution_count": 591,
   "metadata": {},
   "outputs": [
    {
     "data": {
      "text/plain": [
       "'alfred studio'"
      ]
     },
     "execution_count": 591,
     "metadata": {},
     "output_type": "execute_result"
    }
   ],
   "source": [
    "a.replace('lab', 'studio')"
   ]
  },
  {
   "cell_type": "code",
   "execution_count": 595,
   "metadata": {},
   "outputs": [
    {
     "data": {
      "text/plain": [
       "['alf', 'ed lab']"
      ]
     },
     "execution_count": 595,
     "metadata": {},
     "output_type": "execute_result"
    }
   ],
   "source": [
    "a.split('r')"
   ]
  },
  {
   "cell_type": "code",
   "execution_count": 596,
   "metadata": {},
   "outputs": [
    {
     "data": {
      "text/plain": [
       "'alfred lab'"
      ]
     },
     "execution_count": 596,
     "metadata": {},
     "output_type": "execute_result"
    }
   ],
   "source": [
    "'   alfred lab   '.strip()"
   ]
  },
  {
   "cell_type": "markdown",
   "metadata": {},
   "source": [
    "### 3.3.5 字符串格式化\n",
    "\n",
    "> 尊敬的xxxxxxxxxxx客户，您2021年08月01日-2021年08月31日共消费xxx.xx元，再不缴费就要停机了!\n",
    "\n",
    "除了使用通用序列操作和字符串方法对字符串文本进行处理之外，Python还提供了模版化来输出字符串的三种字符串格式化方法，分别是：\n",
    "\n",
    "1. $\\color{#F6BA2C}{f-string}$ 格式化\n",
    "2. str.format() 格式化\n",
    "3. 基于 C语言 printf 样式的格式化\n",
    "\n",
    "这三种格式化方法的优劣和用法如下："
   ]
  },
  {
   "cell_type": "markdown",
   "metadata": {},
   "source": [
    "**1. f-string 格式化**\n",
    "\n",
    "- [f-string 格式化](https://docs.python.org/zh-cn/3/reference/lexical_analysis.html#formatted-string-literals) 又称为格式化字符串字面值，是带有 'f' 或 'F' 前缀的字符串字面值。这种字符串可包含替换字段，即以 `{}` 标示的表达式，表达式在运行时被求值\n",
    "- f-string 格式化方法是Python3.6版本新加入的功能，它的语句比其它两种字符串格式化方法都要简单灵活，而且运行效率更高，是 Alfred数据室$\\color{#F6BA2C}{首推的字符串格式化方法}$\n",
    "- f-string 格式化方法 支持使用 [格式规格迷你语言](https://docs.python.org/zh-cn/3/library/string.html#format-specification-mini-language) 对字符串进行格式化\n",
    "- 格式规格迷你语言 在格式字符串所包含的替换字段内部使用，用于定义单个值应如何呈现，其 标准格式说明符 的一般形式如下：\n",
    "\n",
    "```python\n",
    "format_spec     ::=  [[fill]align][sign][#][0][width][grouping_option][.precision][type]\n",
    "fill            ::=  <any character>\n",
    "align           ::=  \"<\" | \">\" | \"=\" | \"^\"\n",
    "sign            ::=  \"+\" | \"-\" | \" \"\n",
    "width           ::=  digit+\n",
    "grouping_option ::=  \"_\" | \",\"\n",
    "precision       ::=  digit+\n",
    "type            ::=  \"b\" | \"c\" | \"d\" | \"e\" | \"E\" | \"f\" | \"F\" | \"g\" | \"G\" | \"n\" | \"o\" | \"s\" | \"x\" | \"X\" | \"%\"\n",
    "```\n",
    "\n",
    "> [更多内容：格式规格迷你语言](https://docs.python.org/zh-cn/3/library/string.html#format-specification-mini-language)"
   ]
  },
  {
   "cell_type": "code",
   "execution_count": 644,
   "metadata": {},
   "outputs": [],
   "source": [
    "phone = 110119120\n",
    "charges = 12345.6789"
   ]
  },
  {
   "cell_type": "code",
   "execution_count": 647,
   "metadata": {},
   "outputs": [
    {
     "data": {
      "text/plain": [
       "'尊敬的110119120客户, 您共消费12345.6789元，再不缴费就要停机了!'"
      ]
     },
     "execution_count": 647,
     "metadata": {},
     "output_type": "execute_result"
    }
   ],
   "source": [
    "f'尊敬的{phone}客户, 您共消费{charges}元，再不缴费就要停机了!'"
   ]
  },
  {
   "cell_type": "code",
   "execution_count": 680,
   "metadata": {},
   "outputs": [],
   "source": [
    "charges2 = 23456.7890"
   ]
  },
  {
   "cell_type": "code",
   "execution_count": 681,
   "metadata": {},
   "outputs": [
    {
     "data": {
      "text/plain": [
       "'尊敬的110119120客户, 您共消费35802.4679元，再不缴费就要停机了!'"
      ]
     },
     "execution_count": 681,
     "metadata": {},
     "output_type": "execute_result"
    }
   ],
   "source": [
    "f'尊敬的{phone}客户, 您共消费{charges+charges2}元，再不缴费就要停机了!'"
   ]
  },
  {
   "cell_type": "code",
   "execution_count": 662,
   "metadata": {},
   "outputs": [
    {
     "data": {
      "text/plain": [
       "'尊敬的110119120客户, 您共消费------12,345.68元，再不缴费就要停机了!'"
      ]
     },
     "execution_count": 662,
     "metadata": {},
     "output_type": "execute_result"
    }
   ],
   "source": [
    "f'尊敬的{phone}客户, 您共消费{charges:->15,.2f}元，再不缴费就要停机了!'"
   ]
  },
  {
   "cell_type": "markdown",
   "metadata": {},
   "source": [
    "**2. str.format() 格式化**\n",
    "\n",
    "- [str.format()](https://docs.python.org/zh-cn/3/library/string.html#format-string-syntax) 字符格式化方法同样以花括号 `{}` 括起字符串中需要被替换的字段，并通过$\\color{#F6BA2C}{位置}$、$\\color{#F6BA2C}{关键字}$或$\\color{#F6BA2C}{相对位置}$来传入参数，实现字符串格式化\n",
    "- 它与f-string 格式化 相似，都支持使用 [格式规格迷你语言](https://docs.python.org/zh-cn/3/library/string.html#format-specification-mini-language) 对字符串进行格式化，但也有一些区别\n",
    "- str.format() 格式化 是Python2.6和3.x版本引进的，跟f-string 格式化一样，它提供了很大程度的灵活性和可定制性，但在较长的字符串中嵌入多个变量，会显得比较繁琐"
   ]
  },
  {
   "cell_type": "code",
   "execution_count": 683,
   "metadata": {},
   "outputs": [
    {
     "data": {
      "text/plain": [
       "'尊敬的110119120客户, 您共消费12345.6789元，再不缴费就要停机了!'"
      ]
     },
     "execution_count": 683,
     "metadata": {},
     "output_type": "execute_result"
    }
   ],
   "source": [
    "# 相对位置传参\n",
    "'尊敬的{}客户, 您共消费{}元，再不缴费就要停机了!'.format(phone, charges)"
   ]
  },
  {
   "cell_type": "code",
   "execution_count": 685,
   "metadata": {},
   "outputs": [
    {
     "data": {
      "text/plain": [
       "'尊敬的110119120客户, 您共消费5678.9元，欠费12345.6789元再不缴费就要停机了!'"
      ]
     },
     "execution_count": 685,
     "metadata": {},
     "output_type": "execute_result"
    }
   ],
   "source": [
    "# 绝对位置传参\n",
    "overdue = 5678.9\n",
    "'尊敬的{0}客户, 您共消费{2}元，欠费{1}元再不缴费就要停机了!'.format(phone, charges, overdue)"
   ]
  },
  {
   "cell_type": "code",
   "execution_count": 687,
   "metadata": {},
   "outputs": [
    {
     "data": {
      "text/plain": [
       "'尊敬的110119120客户, 您共消费------12,345.68元，再不缴费就要停机了!'"
      ]
     },
     "execution_count": 687,
     "metadata": {},
     "output_type": "execute_result"
    }
   ],
   "source": [
    "'尊敬的{}客户, 您共消费{:->15,.2f}元，再不缴费就要停机了!'.format(phone, charges)"
   ]
  },
  {
   "cell_type": "markdown",
   "metadata": {},
   "source": [
    "**3. 基于 C语言 printf 样式的格式化**\n",
    "\n",
    "- [基于 C语言 printf 样式的格式化](https://docs.python.org/zh-cn/3/library/stdtypes.html#printf-style-string-formatting) 使用 `%` (取模) 运算符对字符串进行格式化；但是该方法具有多种怪异特性，可能导致许多常见错误，因此在此不再赘述\n",
    "- 我们更加推荐使用前面介绍的两种方法对字符串进行格式化\n",
    "\n",
    "> [更多关于该格式化方法可见：printf 风格的字符串格式化](https://docs.python.org/zh-cn/3/library/stdtypes.html#printf-style-string-formatting)"
   ]
  },
  {
   "cell_type": "markdown",
   "metadata": {},
   "source": [
    "## 3.4 布尔型\n",
    "\n",
    "$\\color{#F6BA2C}{布尔型（bool）}$是整型的子类型，有 `True` 和 `False` 两个常量对象，用于表示逻辑上的真和假\n",
    "\n",
    "2. 内置函数 [bool()](https://docs.python.org/zh-cn/3/library/functions.html#bool) 可以把任何对象的值按照$\\color{#F6BA2C}{逻辑值检测过程}$转换为布尔值\n",
    "3. 布尔运算\n",
    "4. 比较运算"
   ]
  },
  {
   "cell_type": "code",
   "execution_count": 25,
   "metadata": {},
   "outputs": [
    {
     "name": "stdout",
     "output_type": "stream",
     "text": [
      "Alfred lab is cool.\n"
     ]
    }
   ],
   "source": [
    "a = True\n",
    "if a:\n",
    "    print('Alfred lab is cool.')"
   ]
  },
  {
   "cell_type": "markdown",
   "metadata": {},
   "source": [
    "### 3.4.1 逻辑值检测\n",
    "\n",
    "内置函数 [bool()](https://docs.python.org/zh-cn/3/library/functions.html#bool) 可以把任何对象的值按照$\\color{#F6BA2C}{逻辑值检测过程}$转换为布尔值\n",
    "\n",
    "[逻辑值检测](https://docs.python.org/zh-cn/3/library/stdtypes.html#truth-value-testing)：任何对象都可以进行逻辑值的检测，以便在 `if` 或 `while` 作为条件或是作为布尔运算的操作数来使用 \n",
    "\n",
    "一个对象在默认情况下$\\color{#F6BA2C}{均被视为真值}$，除了以下情况：\n",
    "\n",
    "- 被定义为假值的常量: `None` 和 `False`\n",
    "- 任何数值类型的零: `0, 0.0, 0j, Decimal(0), Fraction(0, 1)`\n",
    "- 空的序列和多项集: `'', (), [], {}, set(), range(0)`\n"
   ]
  },
  {
   "cell_type": "code",
   "execution_count": 18,
   "metadata": {},
   "outputs": [],
   "source": [
    "a = 'alfred'\n",
    "b = 123\n",
    "c = print"
   ]
  },
  {
   "cell_type": "code",
   "execution_count": 11,
   "metadata": {},
   "outputs": [
    {
     "data": {
      "text/plain": [
       "True"
      ]
     },
     "execution_count": 11,
     "metadata": {},
     "output_type": "execute_result"
    }
   ],
   "source": [
    "bool(a)"
   ]
  },
  {
   "cell_type": "code",
   "execution_count": 12,
   "metadata": {},
   "outputs": [
    {
     "data": {
      "text/plain": [
       "True"
      ]
     },
     "execution_count": 12,
     "metadata": {},
     "output_type": "execute_result"
    }
   ],
   "source": [
    "bool(b)"
   ]
  },
  {
   "cell_type": "code",
   "execution_count": 19,
   "metadata": {},
   "outputs": [
    {
     "data": {
      "text/plain": [
       "True"
      ]
     },
     "execution_count": 19,
     "metadata": {},
     "output_type": "execute_result"
    }
   ],
   "source": [
    "bool(c)"
   ]
  },
  {
   "cell_type": "code",
   "execution_count": 22,
   "metadata": {},
   "outputs": [
    {
     "data": {
      "text/plain": [
       "False"
      ]
     },
     "execution_count": 22,
     "metadata": {},
     "output_type": "execute_result"
    }
   ],
   "source": [
    "bool(None)"
   ]
  },
  {
   "cell_type": "code",
   "execution_count": 23,
   "metadata": {},
   "outputs": [
    {
     "data": {
      "text/plain": [
       "False"
      ]
     },
     "execution_count": 23,
     "metadata": {},
     "output_type": "execute_result"
    }
   ],
   "source": [
    "bool(0.0)"
   ]
  },
  {
   "cell_type": "code",
   "execution_count": 24,
   "metadata": {},
   "outputs": [
    {
     "data": {
      "text/plain": [
       "False"
      ]
     },
     "execution_count": 24,
     "metadata": {},
     "output_type": "execute_result"
    }
   ],
   "source": [
    "bool('')"
   ]
  },
  {
   "cell_type": "markdown",
   "metadata": {},
   "source": [
    "### 3.4.2 布尔运算\n",
    "\n",
    "[布尔运算](https://docs.python.org/zh-cn/3/library/stdtypes.html#boolean-operations-and-or-not)也称为逻辑运算，包含 `or`（或）、`and`（且）、`not`（非）运算符：\n",
    "\n",
    "<table style=\"font-size:20px;\">\n",
    "\t<tr><th>布尔运算符</th><th>运算表达式</th><th>说明</th></tr>\n",
    "\t<tr><td><font color=\"#F6BA2C\">or</font></td><td>x or y</td><td>若x为假，返回y值，否则返回x值</td></tr>\n",
    "\t<tr><td><font color=\"#F6BA2C\">and</font></td><td>x and y</td><td>若x为假，返回x值，否则返回y值</td></tr>\n",
    "\t<tr><td><font color=\"#F6BA2C\">not</font></td><td>not x</td><td>若x为假，返回True，否则返回False</td></tr>\n",
    "</table>"
   ]
  },
  {
   "cell_type": "code",
   "execution_count": 40,
   "metadata": {},
   "outputs": [
    {
     "data": {
      "text/plain": [
       "True"
      ]
     },
     "execution_count": 40,
     "metadata": {},
     "output_type": "execute_result"
    }
   ],
   "source": [
    "True or False"
   ]
  },
  {
   "cell_type": "code",
   "execution_count": 41,
   "metadata": {},
   "outputs": [
    {
     "data": {
      "text/plain": [
       "False"
      ]
     },
     "execution_count": 41,
     "metadata": {},
     "output_type": "execute_result"
    }
   ],
   "source": [
    "True and False"
   ]
  },
  {
   "cell_type": "code",
   "execution_count": 42,
   "metadata": {},
   "outputs": [
    {
     "data": {
      "text/plain": [
       "False"
      ]
     },
     "execution_count": 42,
     "metadata": {},
     "output_type": "execute_result"
    }
   ],
   "source": [
    "not True"
   ]
  },
  {
   "cell_type": "code",
   "execution_count": 43,
   "metadata": {},
   "outputs": [],
   "source": [
    "a = 'alfred'\n",
    "b = ''"
   ]
  },
  {
   "cell_type": "code",
   "execution_count": 44,
   "metadata": {},
   "outputs": [
    {
     "data": {
      "text/plain": [
       "'alfred'"
      ]
     },
     "execution_count": 44,
     "metadata": {},
     "output_type": "execute_result"
    }
   ],
   "source": [
    "a or b"
   ]
  },
  {
   "cell_type": "code",
   "execution_count": 45,
   "metadata": {},
   "outputs": [
    {
     "data": {
      "text/plain": [
       "''"
      ]
     },
     "execution_count": 45,
     "metadata": {},
     "output_type": "execute_result"
    }
   ],
   "source": [
    "a and b"
   ]
  },
  {
   "cell_type": "markdown",
   "metadata": {},
   "source": [
    "### 3.4.3 比较运算\n",
    "\n",
    "1. [比较运算](https://docs.python.org/zh-cn/3/library/stdtypes.html#comparisons)返回布尔值 `True`、`False` \n",
    "2. 比较运算符的优先级相同，但比布尔运算的优先级高\n",
    "3. 比较运算可以任意串连\n",
    "4. `is` 和 `is not` 运算符比较的是对象的标识值（Identity）\n",
    "\n",
    "\n",
    "<table style=\"font-size:20px;\">\n",
    "\t<tr><th>比较运算符</th><th>说明</th></tr>\n",
    "\t<tr><td><font color=\"#F6BA2C\">&lt; </font></td><td>严格小于</td></tr>\n",
    "\t<tr><td><font color=\"#F6BA2C\">&lt;=</font></td><td>小于或等于</td></tr>\n",
    "\t<tr><td><font color=\"#F6BA2C\">&gt;</font></td><td>严格大于</td></tr>\n",
    "\t<tr><td><font color=\"#F6BA2C\">&gt;=</font></td><td>大于或等于</td></tr>\n",
    "\t<tr><td><font color=\"#F6BA2C\">==</font></td><td>等于</td></tr>\n",
    "\t<tr><td><font color=\"#F6BA2C\">!=</font></td><td>不等于</td></tr>\n",
    "\t<tr><td><font color=\"#F6BA2C\">is</font></td><td>对象标识</td></tr>\n",
    "\t<tr><td><font color=\"#F6BA2C\">is not</font></td><td>否定的对象标识</td></tr>\n",
    "</table>\n",
    "\n",
    "$\\color{#F6BA2C}{注意：= 为赋值符号，== 为比较运算符！！！}$"
   ]
  },
  {
   "cell_type": "markdown",
   "metadata": {},
   "source": [
    "**1. [比较运算](https://docs.python.org/zh-cn/3/library/stdtypes.html#comparisons)返回布尔值 `True`、`False`**"
   ]
  },
  {
   "cell_type": "code",
   "execution_count": 56,
   "metadata": {},
   "outputs": [
    {
     "data": {
      "text/plain": [
       "True"
      ]
     },
     "execution_count": 56,
     "metadata": {},
     "output_type": "execute_result"
    }
   ],
   "source": [
    "1 < 2"
   ]
  },
  {
   "cell_type": "code",
   "execution_count": 57,
   "metadata": {},
   "outputs": [
    {
     "data": {
      "text/plain": [
       "True"
      ]
     },
     "execution_count": 57,
     "metadata": {},
     "output_type": "execute_result"
    }
   ],
   "source": [
    "2 <= 2"
   ]
  },
  {
   "cell_type": "code",
   "execution_count": 59,
   "metadata": {},
   "outputs": [
    {
     "data": {
      "text/plain": [
       "True"
      ]
     },
     "execution_count": 59,
     "metadata": {},
     "output_type": "execute_result"
    }
   ],
   "source": [
    "a = 'alfred'\n",
    "b = a\n",
    "a is b"
   ]
  },
  {
   "cell_type": "markdown",
   "metadata": {},
   "source": [
    "**2. 比较运算符的优先级相同，但比布尔运算的优先级高**"
   ]
  },
  {
   "cell_type": "code",
   "execution_count": 71,
   "metadata": {},
   "outputs": [
    {
     "data": {
      "text/plain": [
       "True"
      ]
     },
     "execution_count": 71,
     "metadata": {},
     "output_type": "execute_result"
    }
   ],
   "source": [
    "-1 and 2 >= 2"
   ]
  },
  {
   "cell_type": "code",
   "execution_count": 72,
   "metadata": {},
   "outputs": [
    {
     "data": {
      "text/plain": [
       "True"
      ]
     },
     "execution_count": 72,
     "metadata": {},
     "output_type": "execute_result"
    }
   ],
   "source": [
    "-1 and (2 >= 2)"
   ]
  },
  {
   "cell_type": "markdown",
   "metadata": {},
   "source": [
    "**3. 比较运算可以任意串连**"
   ]
  },
  {
   "cell_type": "code",
   "execution_count": 73,
   "metadata": {},
   "outputs": [
    {
     "data": {
      "text/plain": [
       "True"
      ]
     },
     "execution_count": 73,
     "metadata": {},
     "output_type": "execute_result"
    }
   ],
   "source": [
    "1 < 2 <= 2"
   ]
  },
  {
   "cell_type": "code",
   "execution_count": 74,
   "metadata": {},
   "outputs": [
    {
     "data": {
      "text/plain": [
       "False"
      ]
     },
     "execution_count": 74,
     "metadata": {},
     "output_type": "execute_result"
    }
   ],
   "source": [
    "1 < 2 <= 1"
   ]
  },
  {
   "cell_type": "markdown",
   "metadata": {},
   "source": [
    "**4. `is` 和 `is not` 运算符比较的是对象的标识值（Identity）**\n",
    "\n",
    "而 `==` 比较的是对象的值"
   ]
  },
  {
   "cell_type": "code",
   "execution_count": 82,
   "metadata": {},
   "outputs": [],
   "source": [
    "a = 1234\n",
    "b = 1234"
   ]
  },
  {
   "cell_type": "code",
   "execution_count": 83,
   "metadata": {},
   "outputs": [
    {
     "data": {
      "text/plain": [
       "True"
      ]
     },
     "execution_count": 83,
     "metadata": {},
     "output_type": "execute_result"
    }
   ],
   "source": [
    "a == b"
   ]
  },
  {
   "cell_type": "code",
   "execution_count": 84,
   "metadata": {},
   "outputs": [
    {
     "data": {
      "text/plain": [
       "False"
      ]
     },
     "execution_count": 84,
     "metadata": {},
     "output_type": "execute_result"
    }
   ],
   "source": [
    "a is b"
   ]
  },
  {
   "cell_type": "code",
   "execution_count": 85,
   "metadata": {},
   "outputs": [
    {
     "data": {
      "text/plain": [
       "4728586992"
      ]
     },
     "execution_count": 85,
     "metadata": {},
     "output_type": "execute_result"
    }
   ],
   "source": [
    "id(a)"
   ]
  },
  {
   "cell_type": "code",
   "execution_count": 86,
   "metadata": {},
   "outputs": [
    {
     "data": {
      "text/plain": [
       "4728586960"
      ]
     },
     "execution_count": 86,
     "metadata": {},
     "output_type": "execute_result"
    }
   ],
   "source": [
    "id(b)"
   ]
  }
 ],
 "metadata": {
  "kernelspec": {
   "display_name": "AlfredLab",
   "language": "python",
   "name": "alfredlab"
  },
  "language_info": {
   "codemirror_mode": {
    "name": "ipython",
    "version": 3
   },
   "file_extension": ".py",
   "mimetype": "text/x-python",
   "name": "python",
   "nbconvert_exporter": "python",
   "pygments_lexer": "ipython3",
   "version": "3.8.3"
  },
  "toc-autonumbering": false,
  "toc-showcode": false,
  "toc-showmarkdowntxt": false,
  "toc-showtags": false
 },
 "nbformat": 4,
 "nbformat_minor": 4
}
